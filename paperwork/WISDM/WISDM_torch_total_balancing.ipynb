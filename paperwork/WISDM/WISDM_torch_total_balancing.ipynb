{
 "cells": [
  {
   "cell_type": "code",
   "execution_count": 31,
   "id": "2a74f39e-f5a8-497d-b9ad-26f4adb92123",
   "metadata": {},
   "outputs": [],
   "source": [
    "import numpy as np\n",
    "import pandas as pd\n",
    "import torch\n",
    "import torch.nn as nn\n",
    "import torch.optim as optim\n",
    "from tqdm import tqdm\n",
    "import matplotlib.pyplot as plt\n",
    "import seaborn as sns"
   ]
  },
  {
   "cell_type": "code",
   "execution_count": 32,
   "id": "dde515aa-6c52-4295-b60f-533721c50528",
   "metadata": {},
   "outputs": [],
   "source": [
    "import numpy as np\n",
    "import pandas as pd\n",
    "import torch\n",
    "import torch.nn as nn\n",
    "import torch.optim as optim\n",
    "from torch.utils.data import DataLoader, TensorDataset\n",
    "from sklearn.model_selection import train_test_split\n",
    "from sklearn.preprocessing import LabelEncoder\n"
   ]
  },
  {
   "cell_type": "code",
   "execution_count": 33,
   "id": "bc901558-582a-4a67-bac5-d81955eab291",
   "metadata": {},
   "outputs": [
    {
     "name": "stdout",
     "output_type": "stream",
     "text": [
      "   user_id activity       timestamp    x_axis     y_axis    z_axis\n",
      "0       33  Jogging  49105962326000 -0.694638  12.680544  0.503953\n",
      "1       33  Jogging  49106062271000  5.012288  11.264028  0.953424\n",
      "2       33  Jogging  49106112167000  4.903325  10.882658 -0.081722\n",
      "3       33  Jogging  49106222305000 -0.612916  18.496431  3.023717\n",
      "4       33  Jogging  49106332290000 -1.184970  12.108489  7.205164\n",
      "DataFrame shape: (1098203, 6)\n"
     ]
    }
   ],
   "source": [
    "import numpy as np\n",
    "import pandas as pd\n",
    "\n",
    "# CSV 파일의 컬럼 이름 지정 (첫 번째 컬럼은 버릴 값이므로 \"NaN\"으로 명명)\n",
    "names = [\"NaN\", \"user_id\", \"activity\", \"timestamp\", \"x_axis\", \"y_axis\", \"z_axis\"]\n",
    "\n",
    "# CSV 파일 읽기 (header 없이, 첫 줄은 skip)\n",
    "data = pd.read_csv(\"/Users/ohheungchan/workspace/AI_Study/paperwork/WISDM.csv\",\n",
    "                   header=None, names=names, skiprows=1)\n",
    "\n",
    "# \"NaN\" 컬럼 제거\n",
    "df = data.drop('NaN', axis=1)\n",
    "\n",
    "# 'z_axis' 컬럼을 문자열로 변환 후 세미콜론(;) 제거\n",
    "df[\"z_axis\"] = df[\"z_axis\"].astype(str).str.replace(';', '', regex=True)\n",
    "\n",
    "# 문자열 데이터를 float으로 변환 (에러 발생 시 NaN으로 처리)\n",
    "df[\"timestamp\"] = pd.to_numeric(df[\"timestamp\"], errors='coerce')\n",
    "df[\"x_axis\"]    = pd.to_numeric(df[\"x_axis\"], errors='coerce')\n",
    "df[\"y_axis\"]    = pd.to_numeric(df[\"y_axis\"], errors='coerce')\n",
    "df[\"z_axis\"]    = pd.to_numeric(df[\"z_axis\"], errors='coerce')\n",
    "\n",
    "# 결측치가 있는 행 제거\n",
    "df.dropna(axis=0, how='any', inplace=True)\n",
    "\n",
    "# 결과 확인\n",
    "print(df.head())\n",
    "print(\"DataFrame shape:\", df.shape)"
   ]
  },
  {
   "cell_type": "code",
   "execution_count": 34,
   "id": "def72b6c-0dd6-4746-97a7-35e61c9828b3",
   "metadata": {},
   "outputs": [
    {
     "name": "stdout",
     "output_type": "stream",
     "text": [
      "활동 클래스: ['Downstairs' 'Jogging' 'Sitting' 'Standing' 'Upstairs' 'Walking']\n"
     ]
    }
   ],
   "source": [
    "import numpy as np\n",
    "import pandas as pd\n",
    "from scipy import stats\n",
    "from sklearn.model_selection import train_test_split\n",
    "from sklearn.preprocessing import LabelEncoder\n",
    "# from sklearn.preprocessing import OneHotEncoder  # CrossEntropyLoss는 정수형 라벨을 사용하므로 OneHot은 필요없음\n",
    "\n",
    "#############################################\n",
    "# 1. 데이터 전처리 및 레이블 인코딩\n",
    "#############################################\n",
    "# df는 이미 'x_axis', 'y_axis', 'z_axis', 'activity' 컬럼을 가진 DataFrame이라고 가정합니다.\n",
    "le = LabelEncoder()\n",
    "df['ActivityEncoded'] = le.fit_transform(df['activity'])\n",
    "num_classes = len(le.classes_)\n",
    "print(\"활동 클래스:\", le.classes_)\n"
   ]
  },
  {
   "cell_type": "code",
   "execution_count": 35,
   "id": "90bc3694-ac9b-41c6-bfa7-3a814e02c2a1",
   "metadata": {},
   "outputs": [
    {
     "data": {
      "text/plain": [
       "activity\n",
       "Walking       424397\n",
       "Jogging       342176\n",
       "Upstairs      122869\n",
       "Downstairs    100427\n",
       "Sitting        59939\n",
       "Standing       48395\n",
       "Name: count, dtype: int64"
      ]
     },
     "execution_count": 35,
     "metadata": {},
     "output_type": "execute_result"
    }
   ],
   "source": [
    "df.activity.value_counts()"
   ]
  },
  {
   "cell_type": "code",
   "execution_count": 36,
   "id": "46f7c074-9f86-47c5-b732-b546aad84740",
   "metadata": {},
   "outputs": [
    {
     "data": {
      "text/plain": [
       "<Axes: xlabel='activity', ylabel='count'>"
      ]
     },
     "execution_count": 36,
     "metadata": {},
     "output_type": "execute_result"
    },
    {
     "data": {
      "image/png": "[encoded data removed]",
      "text/plain": [
       "<Figure size 800x600 with 1 Axes>"
      ]
     },
     "metadata": {},
     "output_type": "display_data"
    }
   ],
   "source": [
    "plt.figure(figsize=(8, 6))\n",
    "sns.countplot(x = \"activity\", data = df, order = df.activity.value_counts().index)\n",
    "     "
   ]
  },
  {
   "cell_type": "code",
   "execution_count": 37,
   "id": "6f863233-037b-45ac-8808-31a665efa055",
   "metadata": {},
   "outputs": [
    {
     "name": "stdout",
     "output_type": "stream",
     "text": [
      "DataFrame shape: (1098203, 7)\n",
      "   user_id activity       timestamp    x_axis     y_axis    z_axis  \\\n",
      "0       33  Jogging  49105962326000 -0.694638  12.680544  0.503953   \n",
      "1       33  Jogging  49106062271000  5.012288  11.264028  0.953424   \n",
      "2       33  Jogging  49106112167000  4.903325  10.882658 -0.081722   \n",
      "3       33  Jogging  49106222305000 -0.612916  18.496431  3.023717   \n",
      "4       33  Jogging  49106332290000 -1.184970  12.108489  7.205164   \n",
      "\n",
      "   ActivityEncoded  \n",
      "0                1  \n",
      "1                1  \n",
      "2                1  \n",
      "3                1  \n",
      "4                1  \n"
     ]
    }
   ],
   "source": [
    "#############################################\n",
    "# 0. 기존 DataFrame 사용\n",
    "#############################################\n",
    "# df는 이미 'user_id', 'activity', 'timestamp', 'x_axis', 'y_axis', 'z_axis' 컬럼을 가진 DataFrame입니다.\n",
    "print(\"DataFrame shape:\", df.shape)\n",
    "print(df.head())"
   ]
  },
  {
   "cell_type": "code",
   "execution_count": 38,
   "id": "0aa85090-61cf-4681-925c-c383d70cfa3e",
   "metadata": {},
   "outputs": [
    {
     "name": "stdout",
     "output_type": "stream",
     "text": [
      "활동 클래스: ['Downstairs' 'Jogging' 'Sitting' 'Standing' 'Upstairs' 'Walking']\n",
      "원본 클래스별 샘플 수:\n",
      " activity\n",
      "Walking       424397\n",
      "Jogging       342176\n",
      "Upstairs      122869\n",
      "Downstairs    100427\n",
      "Sitting        59939\n",
      "Standing       48395\n",
      "Name: count, dtype: int64\n"
     ]
    }
   ],
   "source": [
    "\n",
    "#############################################\n",
    "# 1. 레이블 인코딩\n",
    "#############################################\n",
    "le = LabelEncoder()\n",
    "df['activity_encoded'] = le.fit_transform(df['activity'])\n",
    "num_classes = len(le.classes_)\n",
    "print(\"활동 클래스:\", le.classes_)\n",
    "print(\"원본 클래스별 샘플 수:\\n\", df['activity'].value_counts())\n"
   ]
  },
  {
   "cell_type": "code",
   "execution_count": 39,
   "id": "60ac89ba-8414-4297-b73f-b049d766d7bb",
   "metadata": {},
   "outputs": [],
   "source": [
    "#############################################\n",
    "# 2. Diffusion 모델 관련 함수 정의\n",
    "#############################################\n",
    "# UNet1D: Conv1D 기반 모델\n",
    "class UNet1D(nn.Module):\n",
    "    def __init__(self, input_dim=3):\n",
    "        super(UNet1D, self).__init__()\n",
    "        # Encoder\n",
    "        self.encoder = nn.Sequential(\n",
    "            nn.Conv1d(input_dim, 64, kernel_size=3, padding=1),\n",
    "            nn.ReLU(),\n",
    "            nn.Conv1d(64, 128, kernel_size=3, padding=1),\n",
    "            nn.ReLU()\n",
    "        )\n",
    "        # Bottleneck\n",
    "        self.bottleneck = nn.Sequential(\n",
    "            nn.Conv1d(128, 128, kernel_size=3, padding=1),\n",
    "            nn.ReLU()\n",
    "        )\n",
    "        # Decoder\n",
    "        self.decoder = nn.Sequential(\n",
    "            nn.Conv1d(128, 64, kernel_size=3, padding=1),\n",
    "            nn.ReLU(),\n",
    "            nn.Conv1d(64, input_dim, kernel_size=3, padding=1)\n",
    "        )\n",
    "    def forward(self, x, t):\n",
    "        x = self.encoder(x)\n",
    "        x = self.bottleneck(x)\n",
    "        x = self.decoder(x)\n",
    "        return x\n",
    "\n",
    "def forward_diffusion(x, timesteps, beta_schedule):\n",
    "    noise_levels = np.cumprod(1 - beta_schedule)\n",
    "    x_noisy = []\n",
    "    for t in range(timesteps):\n",
    "        # 명시적으로 dtype을 float32로 설정\n",
    "        noise = torch.randn_like(x) * torch.sqrt(torch.tensor(beta_schedule[t], dtype=torch.float32))\n",
    "        noisy_x = torch.sqrt(torch.tensor(noise_levels[t], dtype=torch.float32)) * x + noise\n",
    "        x_noisy.append(noisy_x)\n",
    "    return x_noisy\n",
    "\n",
    "def train_diffusion_model(sensor_data, epochs=500, lr=0.001, timesteps=10):\n",
    "    if torch.backends.mps.is_available():\n",
    "        device = torch.device(\"mps\")\n",
    "    else:\n",
    "        device = torch.device('cuda' if torch.cuda.is_available() else 'cpu')\n",
    "    model = UNet1D(input_dim=3).to(device)\n",
    "    optimizer = optim.Adam(model.parameters(), lr=lr)\n",
    "    criterion = nn.MSELoss()\n",
    "    # sensor_data: (N, 3) → (N, 3, 1)\n",
    "    sensor_data = torch.tensor(sensor_data, dtype=torch.float32).unsqueeze(-1).to(device)\n",
    "    beta_schedule = np.linspace(0.0001, 0.02, timesteps)\n",
    "    for epoch in tqdm(range(epochs), desc='Training Diffusion Model'):\n",
    "        optimizer.zero_grad()\n",
    "        idx = torch.randint(0, sensor_data.shape[0], (32,))\n",
    "        x = sensor_data[idx]\n",
    "        x_noisy_steps = forward_diffusion(x, timesteps, beta_schedule)\n",
    "        t = torch.randint(0, timesteps, (1,)).item()\n",
    "        noisy_x = x_noisy_steps[t]\n",
    "        predicted_x = model(noisy_x, t)\n",
    "        loss = criterion(predicted_x, x)\n",
    "        loss.backward()\n",
    "        optimizer.step()\n",
    "        if epoch % 100 == 0:\n",
    "            print(f'Epoch [{epoch}/{epochs}], Loss: {loss.item():.6f}')\n",
    "    return model\n",
    "\n",
    "def prepare_loader(X, y, batch_size=64):\n",
    "    # CNN 모델 입력은 (N, 3) → unsqueeze(-1) → (N, 3, 1)\n",
    "    X_tensor = torch.tensor(X, dtype=torch.float32).unsqueeze(-1)\n",
    "    y_tensor = torch.tensor(y, dtype=torch.long)\n",
    "    dataset = TensorDataset(X_tensor, y_tensor)\n",
    "    loader = DataLoader(dataset, batch_size=batch_size, shuffle=True)\n",
    "    return loader\n",
    "\n",
    "def generate_synthetic_data(model, num_samples=100, timesteps=10):\n",
    "    if torch.backends.mps.is_available():\n",
    "        device = torch.device(\"mps\")\n",
    "    else:\n",
    "        device = torch.device('cuda' if torch.cuda.is_available() else 'cpu')\n",
    "    model.to(device)\n",
    "    model.eval()\n",
    "    beta_schedule = np.linspace(0.0001, 0.02, timesteps)\n",
    "    noise_levels = np.cumprod(1 - beta_schedule)\n",
    "    with torch.no_grad():\n",
    "        synthetic_data = torch.randn((num_samples, 3, 1), dtype=torch.float32).to(device)\n",
    "        for t in reversed(range(timesteps)):\n",
    "            predicted_x = model(synthetic_data, t)\n",
    "            noise = torch.randn_like(predicted_x) * torch.sqrt(torch.tensor(beta_schedule[t], dtype=torch.float32))\n",
    "            synthetic_data = (predicted_x - noise) / torch.sqrt(torch.tensor(noise_levels[t], dtype=torch.float32))\n",
    "    return synthetic_data.squeeze(-1).cpu().numpy()\n"
   ]
  },
  {
   "cell_type": "code",
   "execution_count": 40,
   "id": "150b29be-d0a9-4815-b491-8a6f078c75e1",
   "metadata": {
    "scrolled": true
   },
   "outputs": [
    {
     "name": "stdout",
     "output_type": "stream",
     "text": [
      "최대 샘플 수: 424397\n",
      "클래스 Downstairs의 원본 샘플 수: 100427\n",
      "클래스 Downstairs의 부족한 샘플 수: 323970\n"
     ]
    },
    {
     "name": "stderr",
     "output_type": "stream",
     "text": [
      "Training Diffusion Model:   3%|▍              | 16/500 [00:00<00:03, 158.28it/s]"
     ]
    },
    {
     "name": "stdout",
     "output_type": "stream",
     "text": [
      "Epoch [0/500], Loss: 30.661076\n"
     ]
    },
    {
     "name": "stderr",
     "output_type": "stream",
     "text": [
      "Training Diffusion Model:  29%|████          | 143/500 [00:00<00:01, 247.73it/s]"
     ]
    },
    {
     "name": "stdout",
     "output_type": "stream",
     "text": [
      "Epoch [100/500], Loss: 0.192912\n"
     ]
    },
    {
     "name": "stderr",
     "output_type": "stream",
     "text": [
      "Training Diffusion Model:  50%|███████       | 250/500 [00:01<00:00, 262.13it/s]"
     ]
    },
    {
     "name": "stdout",
     "output_type": "stream",
     "text": [
      "Epoch [200/500], Loss: 0.130085\n"
     ]
    },
    {
     "name": "stderr",
     "output_type": "stream",
     "text": [
      "Training Diffusion Model:  66%|█████████▎    | 331/500 [00:01<00:00, 259.21it/s]"
     ]
    },
    {
     "name": "stdout",
     "output_type": "stream",
     "text": [
      "Epoch [300/500], Loss: 0.195357\n"
     ]
    },
    {
     "name": "stderr",
     "output_type": "stream",
     "text": [
      "Training Diffusion Model:  87%|████████████▏ | 436/500 [00:01<00:00, 231.18it/s]"
     ]
    },
    {
     "name": "stdout",
     "output_type": "stream",
     "text": [
      "Epoch [400/500], Loss: 0.082967\n"
     ]
    },
    {
     "name": "stderr",
     "output_type": "stream",
     "text": [
      "\n",
      "raining Diffusion Model: 100%|██████████████| 500/500 [00:02<00:00, 243.22it/s]"
     ]
    },
    {
     "name": "stdout",
     "output_type": "stream",
     "text": [
      "클래스 Jogging의 원본 샘플 수: 342176\n",
      "클래스 Jogging의 부족한 샘플 수: 82221\n"
     ]
    },
    {
     "name": "stderr",
     "output_type": "stream",
     "text": [
      "Training Diffusion Model:   4%|▋              | 21/500 [00:00<00:02, 204.55it/s]"
     ]
    },
    {
     "name": "stdout",
     "output_type": "stream",
     "text": [
      "Epoch [0/500], Loss: 65.759544\n"
     ]
    },
    {
     "name": "stderr",
     "output_type": "stream",
     "text": [
      "Training Diffusion Model:  30%|████▏         | 150/500 [00:00<00:01, 253.37it/s]"
     ]
    },
    {
     "name": "stdout",
     "output_type": "stream",
     "text": [
      "Epoch [100/500], Loss: 0.263868\n"
     ]
    },
    {
     "name": "stderr",
     "output_type": "stream",
     "text": [
      "Training Diffusion Model:  46%|██████▍       | 230/500 [00:00<00:01, 256.85it/s]"
     ]
    },
    {
     "name": "stdout",
     "output_type": "stream",
     "text": [
      "Epoch [200/500], Loss: 0.113979\n"
     ]
    },
    {
     "name": "stderr",
     "output_type": "stream",
     "text": [
      "Training Diffusion Model:  67%|█████████▍    | 335/500 [00:01<00:00, 248.89it/s]"
     ]
    },
    {
     "name": "stdout",
     "output_type": "stream",
     "text": [
      "Epoch [300/500], Loss: 0.106100\n"
     ]
    },
    {
     "name": "stderr",
     "output_type": "stream",
     "text": [
      "Training Diffusion Model:  87%|████████████▏ | 436/500 [00:01<00:00, 242.89it/s]"
     ]
    },
    {
     "name": "stdout",
     "output_type": "stream",
     "text": [
      "Epoch [400/500], Loss: 0.043996\n"
     ]
    },
    {
     "name": "stderr",
     "output_type": "stream",
     "text": [
      "\n",
      "raining Diffusion Model: 100%|██████████████| 500/500 [00:02<00:00, 244.70it/s]"
     ]
    },
    {
     "name": "stdout",
     "output_type": "stream",
     "text": [
      "클래스 Sitting의 원본 샘플 수: 59939\n",
      "클래스 Sitting의 부족한 샘플 수: 364458\n"
     ]
    },
    {
     "name": "stderr",
     "output_type": "stream",
     "text": [
      "Training Diffusion Model:   5%|▋              | 24/500 [00:00<00:02, 235.53it/s]"
     ]
    },
    {
     "name": "stdout",
     "output_type": "stream",
     "text": [
      "Epoch [0/500], Loss: 32.794327\n"
     ]
    },
    {
     "name": "stderr",
     "output_type": "stream",
     "text": [
      "Training Diffusion Model:  25%|███▌          | 127/500 [00:00<00:01, 248.31it/s]"
     ]
    },
    {
     "name": "stdout",
     "output_type": "stream",
     "text": [
      "Epoch [100/500], Loss: 0.223240\n"
     ]
    },
    {
     "name": "stderr",
     "output_type": "stream",
     "text": [
      "Training Diffusion Model:  46%|██████▍       | 231/500 [00:00<00:01, 255.37it/s]"
     ]
    },
    {
     "name": "stdout",
     "output_type": "stream",
     "text": [
      "Epoch [200/500], Loss: 0.066066\n"
     ]
    },
    {
     "name": "stderr",
     "output_type": "stream",
     "text": [
      "Training Diffusion Model:  68%|█████████▍    | 338/500 [00:01<00:00, 262.82it/s]"
     ]
    },
    {
     "name": "stdout",
     "output_type": "stream",
     "text": [
      "Epoch [300/500], Loss: 0.117951\n"
     ]
    },
    {
     "name": "stderr",
     "output_type": "stream",
     "text": [
      "Training Diffusion Model:  89%|████████████▍ | 446/500 [00:01<00:00, 265.22it/s]"
     ]
    },
    {
     "name": "stdout",
     "output_type": "stream",
     "text": [
      "Epoch [400/500], Loss: 0.031480\n"
     ]
    },
    {
     "name": "stderr",
     "output_type": "stream",
     "text": [
      "\n",
      "raining Diffusion Model: 100%|██████████████| 500/500 [00:01<00:00, 257.28it/s]"
     ]
    },
    {
     "name": "stdout",
     "output_type": "stream",
     "text": [
      "클래스 Standing의 원본 샘플 수: 48395\n",
      "클래스 Standing의 부족한 샘플 수: 376002\n"
     ]
    },
    {
     "name": "stderr",
     "output_type": "stream",
     "text": [
      "Training Diffusion Model:   5%|▋              | 24/500 [00:00<00:02, 237.80it/s]"
     ]
    },
    {
     "name": "stdout",
     "output_type": "stream",
     "text": [
      "Epoch [0/500], Loss: 31.637608\n"
     ]
    },
    {
     "name": "stderr",
     "output_type": "stream",
     "text": [
      "Training Diffusion Model:  26%|███▌          | 129/500 [00:00<00:01, 255.56it/s]"
     ]
    },
    {
     "name": "stdout",
     "output_type": "stream",
     "text": [
      "Epoch [100/500], Loss: 3.257585\n"
     ]
    },
    {
     "name": "stderr",
     "output_type": "stream",
     "text": [
      "Training Diffusion Model:  47%|██████▋       | 237/500 [00:00<00:00, 263.20it/s]"
     ]
    },
    {
     "name": "stdout",
     "output_type": "stream",
     "text": [
      "Epoch [200/500], Loss: 0.674559\n"
     ]
    },
    {
     "name": "stderr",
     "output_type": "stream",
     "text": [
      "Training Diffusion Model:  69%|█████████▋    | 344/500 [00:01<00:00, 251.91it/s]"
     ]
    },
    {
     "name": "stdout",
     "output_type": "stream",
     "text": [
      "Epoch [300/500], Loss: 0.423036\n"
     ]
    },
    {
     "name": "stderr",
     "output_type": "stream",
     "text": [
      "Training Diffusion Model:  90%|████████████▋ | 452/500 [00:01<00:00, 258.52it/s]"
     ]
    },
    {
     "name": "stdout",
     "output_type": "stream",
     "text": [
      "Epoch [400/500], Loss: 0.144738\n"
     ]
    },
    {
     "name": "stderr",
     "output_type": "stream",
     "text": [
      "\n",
      "raining Diffusion Model: 100%|██████████████| 500/500 [00:01<00:00, 254.54it/s]"
     ]
    },
    {
     "name": "stdout",
     "output_type": "stream",
     "text": [
      "클래스 Upstairs의 원본 샘플 수: 122869\n",
      "클래스 Upstairs의 부족한 샘플 수: 301528\n"
     ]
    },
    {
     "name": "stderr",
     "output_type": "stream",
     "text": [
      "Training Diffusion Model:   4%|▋              | 22/500 [00:00<00:02, 214.67it/s]"
     ]
    },
    {
     "name": "stdout",
     "output_type": "stream",
     "text": [
      "Epoch [0/500], Loss: 42.539253\n"
     ]
    },
    {
     "name": "stderr",
     "output_type": "stream",
     "text": [
      "Training Diffusion Model:  29%|████          | 144/500 [00:00<00:01, 244.16it/s]"
     ]
    },
    {
     "name": "stdout",
     "output_type": "stream",
     "text": [
      "Epoch [100/500], Loss: 0.892198\n"
     ]
    },
    {
     "name": "stderr",
     "output_type": "stream",
     "text": [
      "Training Diffusion Model:  50%|██████▉       | 248/500 [00:01<00:01, 248.20it/s]"
     ]
    },
    {
     "name": "stdout",
     "output_type": "stream",
     "text": [
      "Epoch [200/500], Loss: 0.120064\n"
     ]
    },
    {
     "name": "stderr",
     "output_type": "stream",
     "text": [
      "Training Diffusion Model:  70%|█████████▊    | 352/500 [00:01<00:00, 242.55it/s]"
     ]
    },
    {
     "name": "stdout",
     "output_type": "stream",
     "text": [
      "Epoch [300/500], Loss: 0.090823\n"
     ]
    },
    {
     "name": "stderr",
     "output_type": "stream",
     "text": [
      "Training Diffusion Model:  86%|████████████  | 430/500 [00:01<00:00, 251.11it/s]"
     ]
    },
    {
     "name": "stdout",
     "output_type": "stream",
     "text": [
      "Epoch [400/500], Loss: 0.043813\n"
     ]
    },
    {
     "name": "stderr",
     "output_type": "stream",
     "text": [
      "\n",
      "raining Diffusion Model: 100%|██████████████| 500/500 [00:02<00:00, 244.36it/s]"
     ]
    },
    {
     "name": "stdout",
     "output_type": "stream",
     "text": [
      "클래스 Walking의 원본 샘플 수: 424397\n",
      "클래스 Walking는 이미 충분한 샘플 수 보유\n",
      "밸런스된 트레인셋 shape: (2546382, 8)\n",
      "밸런스된 트레인셋 클래스별 샘플 수:\n",
      " activity\n",
      "Downstairs    424397\n",
      "Jogging       424397\n",
      "Sitting       424397\n",
      "Standing      424397\n",
      "Upstairs      424397\n",
      "Walking       424397\n",
      "Name: count, dtype: int64\n"
     ]
    }
   ],
   "source": [
    "\n",
    "#############################################\n",
    "# 3. 트레인셋 클래스별 밸런싱 (Diffusion을 이용한 증강)\n",
    "#############################################\n",
    "# 각 클래스별 원본 샘플 수 확인\n",
    "class_counts = df['activity'].value_counts()\n",
    "max_count = class_counts.max()\n",
    "print(\"최대 샘플 수:\", max_count)\n",
    "\n",
    "augmented_dfs = []\n",
    "for cls in le.classes_:\n",
    "    df_cls = df[df['activity'] == cls].copy()\n",
    "    count = df_cls.shape[0]\n",
    "    print(f\"클래스 {cls}의 원본 샘플 수: {count}\")\n",
    "    if count < max_count:\n",
    "        diff = max_count - count\n",
    "        print(f\"클래스 {cls}의 부족한 샘플 수: {diff}\")\n",
    "        # 센서 데이터 추출 (열 이름 변경: 'x_axis', 'y_axis', 'z_axis')\n",
    "        sensor_data = df_cls[['x_axis', 'y_axis', 'z_axis']].values\n",
    "        # Diffusion 모델 학습 (여기서는 증강 품질에 따라 epochs=500, timesteps=10 사용)\n",
    "        diffusion_model = train_diffusion_model(sensor_data, epochs=500, lr=0.001, timesteps=10)\n",
    "        # 부족한 개수만큼 합성 데이터 생성\n",
    "        synthetic_data = generate_synthetic_data(diffusion_model, num_samples=diff, timesteps=10)\n",
    "        # 합성 데이터를 DataFrame으로 변환\n",
    "        df_synth = pd.DataFrame(synthetic_data, columns=['x_axis', 'y_axis', 'z_axis'])\n",
    "        df_synth['activity'] = cls\n",
    "        df_synth['activity_encoded'] = le.transform([cls])[0]\n",
    "        # 원본 데이터와 합성 데이터를 결합\n",
    "        df_cls = pd.concat([df_cls, df_synth], axis=0)\n",
    "    else:\n",
    "        print(f\"클래스 {cls}는 이미 충분한 샘플 수 보유\")\n",
    "    augmented_dfs.append(df_cls)\n",
    "\n",
    "df_train_balanced = pd.concat(augmented_dfs, axis=0).reset_index(drop=True)\n",
    "print(\"밸런스된 트레인셋 shape:\", df_train_balanced.shape)\n",
    "print(\"밸런스된 트레인셋 클래스별 샘플 수:\\n\", df_train_balanced['activity'].value_counts())\n"
   ]
  },
  {
   "cell_type": "code",
   "execution_count": 41,
   "id": "4422ba5a-ceaa-4e1d-9b7a-e0dceed250c0",
   "metadata": {},
   "outputs": [
    {
     "data": {
      "text/plain": [
       "<Axes: xlabel='activity', ylabel='count'>"
      ]
     },
     "execution_count": 41,
     "metadata": {},
     "output_type": "execute_result"
    },
    {
     "data": {
      "image/png": "[encoded data removed]",
      "text/plain": [
       "<Figure size 800x600 with 1 Axes>"
      ]
     },
     "metadata": {},
     "output_type": "display_data"
    }
   ],
   "source": [
    "plt.figure(figsize=(8, 6))\n",
    "sns.countplot(x = \"activity\", data = df_train_balanced, order = df_train_balanced.activity.value_counts().index)\n",
    "     "
   ]
  },
  {
   "cell_type": "code",
   "execution_count": 42,
   "id": "c1c82040-ddff-4a1e-89b1-0710de4b61d2",
   "metadata": {},
   "outputs": [],
   "source": [
    "#############################################\n",
    "# 2. 시계열 데이터 세그먼테이션 함수 정의\n",
    "#############################################\n",
    "def create_dataset(X, y, time_steps=1, step=1):\n",
    "    \"\"\"\n",
    "    X: 센서 데이터가 담긴 DataFrame (예: [\"x_axis\", \"y_axis\", \"z_axis\"])\n",
    "    y: 라벨(인코딩된 값)이 담긴 Series (예: df[\"ActivityEncoded\"])\n",
    "    time_steps: 각 시퀀스(윈도우)의 길이 (예: 200)\n",
    "    step: 윈도우 생성 시 이동 간격 (예: 40)\n",
    "    \"\"\"\n",
    "    Xs, ys = [], []\n",
    "    for i in range(0, len(X) - time_steps, step):\n",
    "        # i부터 i+time_steps까지의 센서 데이터를 numpy 배열로 변환\n",
    "        v = X.iloc[i:(i + time_steps)].values\n",
    "        # 해당 구간의 라벨들을 선택하고, 다수결(mode)로 대표 라벨 결정\n",
    "        window_labels = y.iloc[i:(i + time_steps)]\n",
    "        mode_result = stats.mode(window_labels)\n",
    "        mode_label = mode_result.mode\n",
    "        # 만약 mode_label이 배열이면 첫 번째 원소 선택\n",
    "        if isinstance(mode_label, np.ndarray):\n",
    "            mode_label = mode_label[0]\n",
    "        Xs.append(v)\n",
    "        ys.append(mode_label)\n",
    "    return np.array(Xs), np.array(ys).reshape(-1, 1)"
   ]
  },
  {
   "cell_type": "code",
   "execution_count": null,
   "id": "fd9ece7b-7485-4642-b86e-3470dab7b955",
   "metadata": {},
   "outputs": [],
   "source": []
  },
  {
   "cell_type": "code",
   "execution_count": 43,
   "id": "3b97a8ba-bca8-458b-833e-2598fd13f7d2",
   "metadata": {},
   "outputs": [
    {
     "name": "stdout",
     "output_type": "stream",
     "text": [
      "Train shape: (40739, 200, 3) (40739, 1)\n",
      "Validation shape: (10185, 200, 3) (10185, 1)\n",
      "Test shape: (12731, 200, 3) (12731, 1)\n"
     ]
    }
   ],
   "source": [
    "# (예를 들어, 이미 df_train_balanced에 'activity_encoded' 컬럼이 있다고 가정)\n",
    "X_data, y_data = create_dataset(df_train_balanced[[\"x_axis\", \"y_axis\", \"z_axis\"]],\n",
    "                                df_train_balanced[\"activity_encoded\"],\n",
    "                                time_steps=TIME_STEPS, step=STEP)\n",
    "\n",
    "# 전체 데이터에서 test set 분리 (stratify 옵션으로 클래스 비율 유지)\n",
    "X_train, X_test, y_train, y_test = train_test_split(\n",
    "    X_data, y_data, test_size=0.2, random_state=42, stratify=y_data\n",
    ")\n",
    "# train set에서 validation set 분리 (전체의 20%를 validation으로 사용)\n",
    "X_train, X_val, y_train, y_val = train_test_split(\n",
    "    X_train, y_train, test_size=0.2, random_state=42, stratify=y_train\n",
    ")\n",
    "print(\"Train shape:\", X_train.shape, y_train.shape)\n",
    "print(\"Validation shape:\", X_val.shape, y_val.shape)\n",
    "print(\"Test shape:\", X_test.shape, y_test.shape)"
   ]
  },
  {
   "cell_type": "code",
   "execution_count": 44,
   "id": "51722190-d922-456c-a639-898b702b565b",
   "metadata": {},
   "outputs": [],
   "source": [
    "#############################################\n",
    "# 4. PyTorch DataLoader 준비\n",
    "#############################################\n",
    "import torch\n",
    "from torch.utils.data import DataLoader, TensorDataset\n",
    "\n",
    "def prepare_loader(X, y, batch_size=64):\n",
    "    # CNN 모델 입력은 (batch, channels, length) → 변환: (N, window_size, 3) → (N, 3, window_size)\n",
    "    X_tensor = torch.tensor(X, dtype=torch.float32).permute(0, 2, 1)\n",
    "    # y는 정수형 라벨, shape (N,1) -> squeeze하여 (N,)\n",
    "    y_tensor = torch.tensor(y, dtype=torch.long).squeeze()\n",
    "    dataset = TensorDataset(X_tensor, y_tensor)\n",
    "    loader = DataLoader(dataset, batch_size=batch_size, shuffle=True)\n",
    "    return loader\n",
    "\n",
    "train_loader = prepare_loader(X_train, y_train, batch_size=64)\n",
    "val_loader = prepare_loader(X_val, y_val, batch_size=64)\n",
    "test_loader = prepare_loader(X_test, y_test, batch_size=64)\n"
   ]
  },
  {
   "cell_type": "code",
   "execution_count": 45,
   "id": "c88ebe43-bb1c-4ad6-92f3-30420569777c",
   "metadata": {},
   "outputs": [
    {
     "name": "stdout",
     "output_type": "stream",
     "text": [
      "Using device: MPS (Apple GPU)\n"
     ]
    }
   ],
   "source": [
    "\n",
    "#############################################\n",
    "# 5. 간단한 1D CNN 분류기 정의\n",
    "#############################################\n",
    "import torch.nn as nn\n",
    "import torch.optim as optim\n",
    "\n",
    "# Device 설정 (MPS, CUDA 또는 CPU)\n",
    "if torch.backends.mps.is_available():\n",
    "    device = torch.device(\"mps\")\n",
    "    print(\"Using device: MPS (Apple GPU)\")\n",
    "else:\n",
    "    device = torch.device(\"cuda\" if torch.cuda.is_available() else \"cpu\")\n",
    "    print(\"Using device:\", device)\n",
    "\n",
    "class SimpleCNN(nn.Module):\n",
    "    def __init__(self, num_classes, window_size=200):\n",
    "        super(SimpleCNN, self).__init__()\n",
    "        self.conv1 = nn.Conv1d(in_channels=3, out_channels=32, kernel_size=3, padding=1)\n",
    "        self.relu = nn.ReLU()\n",
    "        self.pool = nn.MaxPool1d(kernel_size=2)\n",
    "        self.conv2 = nn.Conv1d(in_channels=32, out_channels=64, kernel_size=3, padding=1)\n",
    "        self.fc1 = nn.Linear(64 * (window_size // 4), 128)\n",
    "        self.fc2 = nn.Linear(128, num_classes)\n",
    "        \n",
    "    def forward(self, x):\n",
    "        x = self.conv1(x)\n",
    "        x = self.relu(x)\n",
    "        x = self.pool(x)\n",
    "        x = self.conv2(x)\n",
    "        x = self.relu(x)\n",
    "        x = self.pool(x)\n",
    "        x = x.view(x.size(0), -1)  # Flatten\n",
    "        x = self.fc1(x)\n",
    "        x = self.relu(x)\n",
    "        x = self.fc2(x)\n",
    "        return x"
   ]
  },
  {
   "cell_type": "code",
   "execution_count": 46,
   "id": "59baac57-7ee3-4422-9df1-44b57bc490bd",
   "metadata": {},
   "outputs": [
    {
     "name": "stdout",
     "output_type": "stream",
     "text": [
      "\n",
      "=== 모델 학습 시작 ===\n",
      "Epoch 1/10, Train Loss: 0.3620, Train Acc: 0.8876, Val Loss: 0.1351, Val Acc: 0.9592\n",
      "Epoch 2/10, Train Loss: 0.0826, Train Acc: 0.9725, Val Loss: 0.0849, Val Acc: 0.9711\n",
      "Epoch 3/10, Train Loss: 0.0416, Train Acc: 0.9865, Val Loss: 0.0503, Val Acc: 0.9846\n",
      "Epoch 4/10, Train Loss: 0.0268, Train Acc: 0.9915, Val Loss: 0.0712, Val Acc: 0.9779\n",
      "Epoch 5/10, Train Loss: 0.0224, Train Acc: 0.9930, Val Loss: 0.0262, Val Acc: 0.9906\n",
      "Epoch 6/10, Train Loss: 0.0123, Train Acc: 0.9962, Val Loss: 0.0322, Val Acc: 0.9909\n",
      "Epoch 7/10, Train Loss: 0.0115, Train Acc: 0.9963, Val Loss: 0.0253, Val Acc: 0.9914\n",
      "Epoch 8/10, Train Loss: 0.0111, Train Acc: 0.9965, Val Loss: 0.0561, Val Acc: 0.9825\n",
      "Epoch 9/10, Train Loss: 0.0164, Train Acc: 0.9946, Val Loss: 0.0300, Val Acc: 0.9917\n",
      "Epoch 10/10, Train Loss: 0.0022, Train Acc: 0.9995, Val Loss: 0.0339, Val Acc: 0.9903\n"
     ]
    }
   ],
   "source": [
    "#############################################\n",
    "# 6. 모델 학습 및 평가\n",
    "#############################################\n",
    "num_epochs = 10  # 학습 에폭 수\n",
    "window_size=200\n",
    "model = SimpleCNN(num_classes=num_classes, window_size=window_size).to(device)\n",
    "criterion = nn.CrossEntropyLoss()\n",
    "optimizer = optim.Adam(model.parameters(), lr=0.001)\n",
    "print(\"\\n=== 모델 학습 시작 ===\")\n",
    "# 에폭별 손실과 정확도를 저장할 리스트\n",
    "train_losses = []\n",
    "train_accuracies = []\n",
    "val_losses = []\n",
    "val_accuracies = []\n",
    "\n",
    "for epoch in range(num_epochs):\n",
    "    # Training Phase\n",
    "    model.train()\n",
    "    running_loss = 0.0\n",
    "    running_corrects = 0\n",
    "    total_train = 0\n",
    "\n",
    "    for X_batch, y_batch in train_loader:\n",
    "        X_batch = X_batch.to(device)\n",
    "        y_batch = y_batch.to(device)\n",
    "        optimizer.zero_grad()\n",
    "        outputs = model(X_batch)\n",
    "        loss = criterion(outputs, y_batch)\n",
    "        loss.backward()\n",
    "        optimizer.step()\n",
    "        running_loss += loss.item() * X_batch.size(0)\n",
    "        _, preds = torch.max(outputs, 1)\n",
    "        running_corrects += torch.sum(preds == y_batch)\n",
    "        total_train += y_batch.size(0)\n",
    "    \n",
    "    epoch_train_loss = running_loss / total_train\n",
    "    epoch_train_acc = running_corrects.float() / total_train\n",
    "    train_losses.append(epoch_train_loss)\n",
    "    train_accuracies.append(epoch_train_acc.item())\n",
    "    \n",
    "    # Validation Phase\n",
    "    model.eval()\n",
    "    val_running_loss = 0.0\n",
    "    val_running_corrects = 0\n",
    "    total_val = 0\n",
    "    with torch.no_grad():\n",
    "        for X_val, y_val in val_loader:\n",
    "            X_val = X_val.to(device)\n",
    "            y_val = y_val.to(device)\n",
    "            outputs = model(X_val)\n",
    "            loss = criterion(outputs, y_val)\n",
    "            val_running_loss += loss.item() * X_val.size(0)\n",
    "            _, preds = torch.max(outputs, 1)\n",
    "            val_running_corrects += torch.sum(preds == y_val)\n",
    "            total_val += y_val.size(0)\n",
    "    epoch_val_loss = val_running_loss / total_val\n",
    "    epoch_val_acc = val_running_corrects.float() / total_val\n",
    "    val_losses.append(epoch_val_loss)\n",
    "    val_accuracies.append(epoch_val_acc.item())\n",
    "    \n",
    "    print(f\"Epoch {epoch+1}/{num_epochs}, \"\n",
    "          f\"Train Loss: {epoch_train_loss:.4f}, Train Acc: {epoch_train_acc:.4f}, \"\n",
    "          f\"Val Loss: {epoch_val_loss:.4f}, Val Acc: {epoch_val_acc:.4f}\")\n"
   ]
  },
  {
   "cell_type": "code",
   "execution_count": 47,
   "id": "881f54e3-9f05-4b85-9ca1-845d01e0b359",
   "metadata": {},
   "outputs": [
    {
     "name": "stdout",
     "output_type": "stream",
     "text": [
      "테스트 정확도: 98.91%\n"
     ]
    }
   ],
   "source": [
    "model.eval()\n",
    "correct = 0\n",
    "total = 0\n",
    "with torch.no_grad():\n",
    "    for X_batch, y_batch in test_loader:\n",
    "        X_batch = X_batch.to(device)\n",
    "        y_batch = y_batch.to(device).squeeze()  # 만약 y_batch가 (batch_size, 1)이라면\n",
    "        outputs = model(X_batch)\n",
    "        _, predicted = torch.max(outputs, 1)\n",
    "        total += y_batch.size(0)\n",
    "        correct += (predicted == y_batch).sum().item()\n",
    "\n",
    "accuracy = 100 * correct / total\n",
    "print(f\"테스트 정확도: {accuracy:.2f}%\")"
   ]
  },
  {
   "cell_type": "code",
   "execution_count": 48,
   "id": "0eaa4a4c-f2d3-4384-8687-0ba4b57c1791",
   "metadata": {},
   "outputs": [
    {
     "data": {
      "image/png": "[encoded data removed]",
      "text/plain": [
       "<Figure size 1200x500 with 2 Axes>"
      ]
     },
     "metadata": {},
     "output_type": "display_data"
    }
   ],
   "source": [
    "# 학습 및 검증 결과 플롯팅\n",
    "import matplotlib.pyplot as plt\n",
    "\n",
    "plt.figure(figsize=(12, 5))\n",
    "\n",
    "# 손실 플롯\n",
    "plt.subplot(1, 2, 1)\n",
    "plt.plot(range(1, num_epochs+1), train_losses, marker='o', label='Train Loss')\n",
    "plt.plot(range(1, num_epochs+1), val_losses, marker='o', label='Val Loss')\n",
    "plt.title('Model Loss')\n",
    "plt.xlabel('Epoch')\n",
    "plt.ylabel('Loss')\n",
    "plt.legend(loc='upper left')\n",
    "\n",
    "# 정확도 플롯\n",
    "plt.subplot(1, 2, 2)\n",
    "plt.plot(range(1, num_epochs+1), train_accuracies, marker='o', label='Train Accuracy')\n",
    "plt.plot(range(1, num_epochs+1), val_accuracies, marker='o', label='Val Accuracy')\n",
    "plt.title('Model Accuracy')\n",
    "plt.xlabel('Epoch')\n",
    "plt.ylabel('Accuracy')\n",
    "plt.legend(loc='upper left')\n",
    "\n",
    "plt.tight_layout()\n",
    "plt.show()"
   ]
  },
  {
   "cell_type": "code",
   "execution_count": 49,
   "id": "66c4c121-f6e1-4a6a-9a22-b2071e56cde4",
   "metadata": {},
   "outputs": [
    {
     "name": "stdout",
     "output_type": "stream",
     "text": [
      "F1 Score (weighted): 0.9891176694720627\n",
      "Accuracy: 0.9890817689105333\n",
      "Classification Report:\n",
      "              precision    recall  f1-score   support\n",
      "\n",
      "     Walking       0.98      0.98      0.98      2122\n",
      "     Jogging       1.00      0.98      0.99      2122\n",
      "    Upstairs       1.00      1.00      1.00      2122\n",
      "  Downstairs       1.00      0.99      1.00      2122\n",
      "     Sitting       0.96      0.99      0.98      2122\n",
      "    Standing       0.99      0.98      0.99      2121\n",
      "\n",
      "    accuracy                           0.99     12731\n",
      "   macro avg       0.99      0.99      0.99     12731\n",
      "weighted avg       0.99      0.99      0.99     12731\n",
      "\n"
     ]
    },
    {
     "data": {
      "image/png": "[encoded data removed]",
      "text/plain": [
       "<Figure size 800x600 with 2 Axes>"
      ]
     },
     "metadata": {},
     "output_type": "display_data"
    }
   ],
   "source": [
    "import numpy as np\n",
    "import torch\n",
    "from sklearn.metrics import confusion_matrix, classification_report, accuracy_score, f1_score\n",
    "import seaborn as sns\n",
    "import matplotlib.pyplot as plt\n",
    "\n",
    "# LABELS는 클래스 이름을 지정합니다.\n",
    "LABELS = ['Walking', 'Jogging', 'Upstairs', 'Downstairs', 'Sitting', 'Standing']\n",
    "\n",
    "# 모델을 평가 모드로 전환\n",
    "model.eval()\n",
    "\n",
    "# 전체 test 데이터에 대해 예측값과 정답을 모읍니다.\n",
    "all_preds = []\n",
    "all_true = []\n",
    "\n",
    "with torch.no_grad():\n",
    "    for X_batch, y_batch in test_loader:\n",
    "        X_batch = X_batch.to(device)\n",
    "        y_batch = y_batch.to(device)\n",
    "        outputs = model(X_batch)\n",
    "        # 각 샘플에 대해 가장 높은 확률을 가진 클래스 인덱스 선택\n",
    "        _, preds = torch.max(outputs, 1)\n",
    "        all_preds.extend(preds.cpu().numpy())\n",
    "        all_true.extend(y_batch.cpu().numpy())\n",
    "\n",
    "# 혼동 행렬 계산\n",
    "cm = confusion_matrix(all_true, all_preds)\n",
    "\n",
    "# 평가 지표 출력\n",
    "print(\"F1 Score (weighted):\", f1_score(all_true, all_preds, average='weighted'))\n",
    "print(\"Accuracy:\", accuracy_score(all_true, all_preds))\n",
    "print(\"Classification Report:\")\n",
    "print(classification_report(all_true, all_preds, target_names=LABELS))\n",
    "\n",
    "# 혼동 행렬 시각화\n",
    "plt.figure(figsize=(8, 6))\n",
    "sns.heatmap(cm, cmap=\"YlGnBu\", xticklabels=LABELS, yticklabels=LABELS, annot=True, fmt='d')\n",
    "plt.xlabel(\"Predicted\")\n",
    "plt.ylabel(\"True\")\n",
    "plt.title(\"Confusion Matrix\")\n",
    "plt.show()"
   ]
  },
  {
   "cell_type": "code",
   "execution_count": null,
   "id": "8de6567b-76fe-4a6b-8d07-aeb75f66014e",
   "metadata": {},
   "outputs": [],
   "source": []
  }
 ],
 "metadata": {
  "kernelspec": {
   "display_name": "Python 3 (ipykernel)",
   "language": "python",
   "name": "python3"
  },
  "language_info": {
   "codemirror_mode": {
    "name": "ipython",
    "version": 3
   },
   "file_extension": ".py",
   "mimetype": "text/x-python",
   "name": "python",
   "nbconvert_exporter": "python",
   "pygments_lexer": "ipython3",
   "version": "3.9.21"
  }
 },
 "nbformat": 4,
 "nbformat_minor": 5
}
