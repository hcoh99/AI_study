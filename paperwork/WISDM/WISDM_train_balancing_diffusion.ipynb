{
 "cells": [
  {
   "cell_type": "code",
   "execution_count": 5,
   "id": "2a74f39e-f5a8-497d-b9ad-26f4adb92123",
   "metadata": {},
   "outputs": [],
   "source": [
    "import numpy as np\n",
    "import pandas as pd\n",
    "import torch\n",
    "import torch.nn as nn\n",
    "import torch.optim as optim\n",
    "from tqdm import tqdm\n",
    "import matplotlib.pyplot as plt\n",
    "import seaborn as sns"
   ]
  },
  {
   "cell_type": "code",
   "execution_count": 6,
   "id": "dde515aa-6c52-4295-b60f-533721c50528",
   "metadata": {},
   "outputs": [],
   "source": [
    "import numpy as np\n",
    "import pandas as pd\n",
    "import torch\n",
    "import torch.nn as nn\n",
    "import torch.optim as optim\n",
    "from torch.utils.data import DataLoader, TensorDataset\n",
    "from sklearn.model_selection import train_test_split\n",
    "from sklearn.preprocessing import LabelEncoder\n"
   ]
  },
  {
   "cell_type": "code",
   "execution_count": 7,
   "id": "bc901558-582a-4a67-bac5-d81955eab291",
   "metadata": {},
   "outputs": [
    {
     "name": "stdout",
     "output_type": "stream",
     "text": [
      "   user_id activity       timestamp    x_axis     y_axis    z_axis\n",
      "0       33  Jogging  49105962326000 -0.694638  12.680544  0.503953\n",
      "1       33  Jogging  49106062271000  5.012288  11.264028  0.953424\n",
      "2       33  Jogging  49106112167000  4.903325  10.882658 -0.081722\n",
      "3       33  Jogging  49106222305000 -0.612916  18.496431  3.023717\n",
      "4       33  Jogging  49106332290000 -1.184970  12.108489  7.205164\n",
      "DataFrame shape: (1098203, 6)\n"
     ]
    }
   ],
   "source": [
    "import numpy as np\n",
    "import pandas as pd\n",
    "\n",
    "# CSV 파일의 컬럼 이름 지정 (첫 번째 컬럼은 버릴 값이므로 \"NaN\"으로 명명)\n",
    "names = [\"NaN\", \"user_id\", \"activity\", \"timestamp\", \"x_axis\", \"y_axis\", \"z_axis\"]\n",
    "\n",
    "# CSV 파일 읽기 (header 없이, 첫 줄은 skip)\n",
    "data = pd.read_csv(\"/Users/ohheungchan/workspace/AI_Study/paperwork/WISDM.csv\",\n",
    "                   header=None, names=names, skiprows=1)\n",
    "\n",
    "# \"NaN\" 컬럼 제거\n",
    "df = data.drop('NaN', axis=1)\n",
    "\n",
    "# 'z_axis' 컬럼을 문자열로 변환 후 세미콜론(;) 제거\n",
    "df[\"z_axis\"] = df[\"z_axis\"].astype(str).str.replace(';', '', regex=True)\n",
    "\n",
    "# 문자열 데이터를 float으로 변환 (에러 발생 시 NaN으로 처리)\n",
    "df[\"timestamp\"] = pd.to_numeric(df[\"timestamp\"], errors='coerce')\n",
    "df[\"x_axis\"]    = pd.to_numeric(df[\"x_axis\"], errors='coerce')\n",
    "df[\"y_axis\"]    = pd.to_numeric(df[\"y_axis\"], errors='coerce')\n",
    "df[\"z_axis\"]    = pd.to_numeric(df[\"z_axis\"], errors='coerce')\n",
    "\n",
    "# 결측치가 있는 행 제거\n",
    "df.dropna(axis=0, how='any', inplace=True)\n",
    "\n",
    "# 결과 확인\n",
    "print(df.head())\n",
    "print(\"DataFrame shape:\", df.shape)"
   ]
  },
  {
   "cell_type": "code",
   "execution_count": 8,
   "id": "3416e724-117e-43ca-97ab-9dfc585db929",
   "metadata": {},
   "outputs": [
    {
     "name": "stdout",
     "output_type": "stream",
     "text": [
      "Train set shape: (878562, 6)\n",
      "Test set shape: (219641, 6)\n"
     ]
    }
   ],
   "source": [
    "train_df, test_df = train_test_split(df, test_size=0.2, random_state=42)\n",
    "\n",
    "print(\"Train set shape:\", train_df.shape)\n",
    "print(\"Test set shape:\", test_df.shape)"
   ]
  },
  {
   "cell_type": "code",
   "execution_count": 11,
   "id": "def72b6c-0dd6-4746-97a7-35e61c9828b3",
   "metadata": {},
   "outputs": [
    {
     "name": "stdout",
     "output_type": "stream",
     "text": [
      "활동 클래스: ['Downstairs' 'Jogging' 'Sitting' 'Standing' 'Upstairs' 'Walking']\n"
     ]
    }
   ],
   "source": [
    "import numpy as np\n",
    "import pandas as pd\n",
    "from scipy import stats\n",
    "from sklearn.model_selection import train_test_split\n",
    "from sklearn.preprocessing import LabelEncoder\n",
    "# from sklearn.preprocessing import OneHotEncoder  # CrossEntropyLoss는 정수형 라벨을 사용하므로 OneHot은 필요없음\n",
    "\n",
    "#############################################\n",
    "# 1. 데이터 전처리 및 레이블 인코딩\n",
    "#############################################\n",
    "# df는 이미 'x_axis', 'y_axis', 'z_axis', 'activity' 컬럼을 가진 DataFrame이라고 가정합니다.\n",
    "le = LabelEncoder()\n",
    "train_df['ActivityEncoded'] = le.fit_transform(train_df['activity'])\n",
    "num_classes = len(le.classes_)\n",
    "print(\"활동 클래스:\", le.classes_)\n"
   ]
  },
  {
   "cell_type": "code",
   "execution_count": 12,
   "id": "90bc3694-ac9b-41c6-bfa7-3a814e02c2a1",
   "metadata": {},
   "outputs": [
    {
     "data": {
      "text/plain": [
       "activity\n",
       "Walking       339355\n",
       "Jogging       273612\n",
       "Upstairs       98288\n",
       "Downstairs     80464\n",
       "Sitting        48071\n",
       "Standing       38772\n",
       "Name: count, dtype: int64"
      ]
     },
     "execution_count": 12,
     "metadata": {},
     "output_type": "execute_result"
    }
   ],
   "source": [
    "train_df.activity.value_counts()"
   ]
  },
  {
   "cell_type": "code",
   "execution_count": 13,
   "id": "46f7c074-9f86-47c5-b732-b546aad84740",
   "metadata": {},
   "outputs": [
    {
     "data": {
      "text/plain": [
       "<Axes: xlabel='activity', ylabel='count'>"
      ]
     },
     "execution_count": 13,
     "metadata": {},
     "output_type": "execute_result"
    },
    {
     "data": {
      "image/png": "[encoded data removed]",
      "text/plain": [
       "<Figure size 800x600 with 1 Axes>"
      ]
     },
     "metadata": {},
     "output_type": "display_data"
    }
   ],
   "source": [
    "plt.figure(figsize=(8, 6))\n",
    "sns.countplot(x = \"activity\", data = train_df, order = train_df.activity.value_counts().index)\n",
    "     "
   ]
  },
  {
   "cell_type": "code",
   "execution_count": 14,
   "id": "6f863233-037b-45ac-8808-31a665efa055",
   "metadata": {},
   "outputs": [
    {
     "name": "stdout",
     "output_type": "stream",
     "text": [
      "최대 샘플 수: 339355\n",
      "클래스 'Downstairs'의 원본 샘플 수: 80464\n",
      "클래스 'Downstairs'의 부족한 샘플 수: 258891\n",
      "Diffusion 모델 학습 시 사용 device: mps\n"
     ]
    },
    {
     "name": "stderr",
     "output_type": "stream",
     "text": [
      "Training Diffusion Model:  10%|█▌              | 49/500 [00:02<00:12, 37.37it/s]"
     ]
    },
    {
     "name": "stdout",
     "output_type": "stream",
     "text": [
      "Epoch [0/500], Loss: 46.806038\n"
     ]
    },
    {
     "name": "stderr",
     "output_type": "stream",
     "text": [
      "Training Diffusion Model:  30%|████▏         | 151/500 [00:02<00:02, 141.35it/s]"
     ]
    },
    {
     "name": "stdout",
     "output_type": "stream",
     "text": [
      "Epoch [100/500], Loss: 3.843697\n"
     ]
    },
    {
     "name": "stderr",
     "output_type": "stream",
     "text": [
      "Training Diffusion Model:  46%|██████▍       | 231/500 [00:02<00:01, 209.22it/s]"
     ]
    },
    {
     "name": "stdout",
     "output_type": "stream",
     "text": [
      "Epoch [200/500], Loss: 0.072271\n"
     ]
    },
    {
     "name": "stderr",
     "output_type": "stream",
     "text": [
      "Training Diffusion Model:  68%|█████████▌    | 340/500 [00:03<00:00, 251.67it/s]"
     ]
    },
    {
     "name": "stdout",
     "output_type": "stream",
     "text": [
      "Epoch [300/500], Loss: 0.073078\n"
     ]
    },
    {
     "name": "stderr",
     "output_type": "stream",
     "text": [
      "Training Diffusion Model:  90%|████████████▌ | 449/500 [00:03<00:00, 261.61it/s]"
     ]
    },
    {
     "name": "stdout",
     "output_type": "stream",
     "text": [
      "Epoch [400/500], Loss: 0.266127\n"
     ]
    },
    {
     "name": "stderr",
     "output_type": "stream",
     "text": [
      "\n",
      "raining Diffusion Model: 100%|██████████████| 500/500 [00:03<00:00, 129.61it/s]"
     ]
    },
    {
     "name": "stdout",
     "output_type": "stream",
     "text": [
      "합성 데이터 생성 시 사용 device: mps\n",
      "클래스 'Jogging'의 원본 샘플 수: 273612\n",
      "클래스 'Jogging'의 부족한 샘플 수: 65743\n",
      "Diffusion 모델 학습 시 사용 device: mps\n"
     ]
    },
    {
     "name": "stderr",
     "output_type": "stream",
     "text": [
      "Training Diffusion Model:   5%|▋              | 24/500 [00:00<00:02, 233.70it/s]"
     ]
    },
    {
     "name": "stdout",
     "output_type": "stream",
     "text": [
      "Epoch [0/500], Loss: 75.256393\n"
     ]
    },
    {
     "name": "stderr",
     "output_type": "stream",
     "text": [
      "Training Diffusion Model:  26%|███▌          | 129/500 [00:00<00:01, 257.47it/s]"
     ]
    },
    {
     "name": "stdout",
     "output_type": "stream",
     "text": [
      "Epoch [100/500], Loss: 0.717531\n"
     ]
    },
    {
     "name": "stderr",
     "output_type": "stream",
     "text": [
      "Training Diffusion Model:  47%|██████▋       | 237/500 [00:00<00:00, 263.50it/s]"
     ]
    },
    {
     "name": "stdout",
     "output_type": "stream",
     "text": [
      "Epoch [200/500], Loss: 0.135299\n"
     ]
    },
    {
     "name": "stderr",
     "output_type": "stream",
     "text": [
      "Training Diffusion Model:  69%|█████████▋    | 345/500 [00:01<00:00, 257.68it/s]"
     ]
    },
    {
     "name": "stdout",
     "output_type": "stream",
     "text": [
      "Epoch [300/500], Loss: 0.126559\n"
     ]
    },
    {
     "name": "stderr",
     "output_type": "stream",
     "text": [
      "Training Diffusion Model:  90%|████████████▌ | 449/500 [00:01<00:00, 252.85it/s]"
     ]
    },
    {
     "name": "stdout",
     "output_type": "stream",
     "text": [
      "Epoch [400/500], Loss: 0.265010\n"
     ]
    },
    {
     "name": "stderr",
     "output_type": "stream",
     "text": [
      "\n",
      "raining Diffusion Model: 100%|██████████████| 500/500 [00:01<00:00, 254.13it/s]"
     ]
    },
    {
     "name": "stdout",
     "output_type": "stream",
     "text": [
      "합성 데이터 생성 시 사용 device: mps\n",
      "클래스 'Sitting'의 원본 샘플 수: 48071\n",
      "클래스 'Sitting'의 부족한 샘플 수: 291284\n",
      "Diffusion 모델 학습 시 사용 device: mps\n"
     ]
    },
    {
     "name": "stderr",
     "output_type": "stream",
     "text": [
      "Training Diffusion Model:   5%|▊              | 26/500 [00:00<00:01, 255.39it/s]"
     ]
    },
    {
     "name": "stdout",
     "output_type": "stream",
     "text": [
      "Epoch [0/500], Loss: 32.262268\n"
     ]
    },
    {
     "name": "stderr",
     "output_type": "stream",
     "text": [
      "Training Diffusion Model:  26%|███▋          | 132/500 [00:00<00:01, 262.73it/s]"
     ]
    },
    {
     "name": "stdout",
     "output_type": "stream",
     "text": [
      "Epoch [100/500], Loss: 0.992179\n"
     ]
    },
    {
     "name": "stderr",
     "output_type": "stream",
     "text": [
      "Training Diffusion Model:  48%|██████▋       | 240/500 [00:00<00:00, 260.25it/s]"
     ]
    },
    {
     "name": "stdout",
     "output_type": "stream",
     "text": [
      "Epoch [200/500], Loss: 0.052589\n"
     ]
    },
    {
     "name": "stderr",
     "output_type": "stream",
     "text": [
      "Training Diffusion Model:  70%|█████████▊    | 349/500 [00:01<00:00, 262.62it/s]"
     ]
    },
    {
     "name": "stdout",
     "output_type": "stream",
     "text": [
      "Epoch [300/500], Loss: 0.021531\n"
     ]
    },
    {
     "name": "stderr",
     "output_type": "stream",
     "text": [
      "Training Diffusion Model:  86%|████████████  | 429/500 [00:01<00:00, 262.25it/s]"
     ]
    },
    {
     "name": "stdout",
     "output_type": "stream",
     "text": [
      "Epoch [400/500], Loss: 0.045092\n"
     ]
    },
    {
     "name": "stderr",
     "output_type": "stream",
     "text": [
      "\n",
      "raining Diffusion Model: 100%|██████████████| 500/500 [00:01<00:00, 259.00it/s]"
     ]
    },
    {
     "name": "stdout",
     "output_type": "stream",
     "text": [
      "합성 데이터 생성 시 사용 device: mps\n",
      "클래스 'Standing'의 원본 샘플 수: 38772\n",
      "클래스 'Standing'의 부족한 샘플 수: 300583\n",
      "Diffusion 모델 학습 시 사용 device: mps\n"
     ]
    },
    {
     "name": "stderr",
     "output_type": "stream",
     "text": [
      "Training Diffusion Model:   5%|▋              | 23/500 [00:00<00:02, 229.85it/s]"
     ]
    },
    {
     "name": "stdout",
     "output_type": "stream",
     "text": [
      "Epoch [0/500], Loss: 31.821224\n"
     ]
    },
    {
     "name": "stderr",
     "output_type": "stream",
     "text": [
      "Training Diffusion Model:  31%|████▎         | 154/500 [00:00<00:01, 257.90it/s]"
     ]
    },
    {
     "name": "stdout",
     "output_type": "stream",
     "text": [
      "Epoch [100/500], Loss: 1.408398\n"
     ]
    },
    {
     "name": "stderr",
     "output_type": "stream",
     "text": [
      "Training Diffusion Model:  47%|██████▌       | 233/500 [00:00<00:01, 260.45it/s]"
     ]
    },
    {
     "name": "stdout",
     "output_type": "stream",
     "text": [
      "Epoch [200/500], Loss: 0.336586\n"
     ]
    },
    {
     "name": "stderr",
     "output_type": "stream",
     "text": [
      "Training Diffusion Model:  68%|█████████▌    | 342/500 [00:01<00:00, 258.09it/s]"
     ]
    },
    {
     "name": "stdout",
     "output_type": "stream",
     "text": [
      "Epoch [300/500], Loss: 0.237393\n"
     ]
    },
    {
     "name": "stderr",
     "output_type": "stream",
     "text": [
      "Training Diffusion Model:  90%|████████████▌ | 448/500 [00:01<00:00, 252.47it/s]"
     ]
    },
    {
     "name": "stdout",
     "output_type": "stream",
     "text": [
      "Epoch [400/500], Loss: 0.033129\n"
     ]
    },
    {
     "name": "stderr",
     "output_type": "stream",
     "text": [
      "\n",
      "raining Diffusion Model: 100%|██████████████| 500/500 [00:01<00:00, 251.62it/s]"
     ]
    },
    {
     "name": "stdout",
     "output_type": "stream",
     "text": [
      "합성 데이터 생성 시 사용 device: mps\n",
      "클래스 'Upstairs'의 원본 샘플 수: 98288\n",
      "클래스 'Upstairs'의 부족한 샘플 수: 241067\n",
      "Diffusion 모델 학습 시 사용 device: mps\n"
     ]
    },
    {
     "name": "stderr",
     "output_type": "stream",
     "text": [
      "Training Diffusion Model:   5%|▊              | 25/500 [00:00<00:01, 245.54it/s]"
     ]
    },
    {
     "name": "stdout",
     "output_type": "stream",
     "text": [
      "Epoch [0/500], Loss: 38.725109\n"
     ]
    },
    {
     "name": "stderr",
     "output_type": "stream",
     "text": [
      "Training Diffusion Model:  26%|███▋          | 130/500 [00:00<00:01, 260.31it/s]"
     ]
    },
    {
     "name": "stdout",
     "output_type": "stream",
     "text": [
      "Epoch [100/500], Loss: 4.339497\n"
     ]
    },
    {
     "name": "stderr",
     "output_type": "stream",
     "text": [
      "Training Diffusion Model:  48%|██████▋       | 239/500 [00:00<00:00, 266.19it/s]"
     ]
    },
    {
     "name": "stdout",
     "output_type": "stream",
     "text": [
      "Epoch [200/500], Loss: 0.072910\n"
     ]
    },
    {
     "name": "stderr",
     "output_type": "stream",
     "text": [
      "Training Diffusion Model:  69%|█████████▋    | 347/500 [00:01<00:00, 253.53it/s]"
     ]
    },
    {
     "name": "stdout",
     "output_type": "stream",
     "text": [
      "Epoch [300/500], Loss: 0.080541\n"
     ]
    },
    {
     "name": "stderr",
     "output_type": "stream",
     "text": [
      "Training Diffusion Model:  91%|████████████▋ | 454/500 [00:01<00:00, 260.80it/s]"
     ]
    },
    {
     "name": "stdout",
     "output_type": "stream",
     "text": [
      "Epoch [400/500], Loss: 0.154104\n"
     ]
    },
    {
     "name": "stderr",
     "output_type": "stream",
     "text": [
      "\n",
      "raining Diffusion Model: 100%|██████████████| 500/500 [00:01<00:00, 258.50it/s]"
     ]
    },
    {
     "name": "stdout",
     "output_type": "stream",
     "text": [
      "합성 데이터 생성 시 사용 device: mps\n",
      "클래스 'Walking'의 원본 샘플 수: 339355\n",
      "클래스 'Walking'는 이미 충분한 샘플 수 보유\n",
      "밸런스된 트레인셋 shape: (2036130, 8)\n",
      "밸런스된 트레인셋 클래스별 샘플 수:\n",
      " activity\n",
      "Downstairs    339355\n",
      "Jogging       339355\n",
      "Sitting       339355\n",
      "Standing      339355\n",
      "Upstairs      339355\n",
      "Walking       339355\n",
      "Name: count, dtype: int64\n"
     ]
    }
   ],
   "source": [
    "#############################################\n",
    "# 2. Diffusion 모델 관련 함수 정의\n",
    "#############################################\n",
    "# UNet1D: Conv1D 기반 모델\n",
    "class UNet1D(nn.Module):\n",
    "    def __init__(self, input_dim=3):\n",
    "        super(UNet1D, self).__init__()\n",
    "        # Encoder\n",
    "        self.encoder = nn.Sequential(\n",
    "            nn.Conv1d(input_dim, 64, kernel_size=3, padding=1),\n",
    "            nn.ReLU(),\n",
    "            nn.Conv1d(64, 128, kernel_size=3, padding=1),\n",
    "            nn.ReLU()\n",
    "        )\n",
    "        # Bottleneck\n",
    "        self.bottleneck = nn.Sequential(\n",
    "            nn.Conv1d(128, 128, kernel_size=3, padding=1),\n",
    "            nn.ReLU()\n",
    "        )\n",
    "        # Decoder\n",
    "        self.decoder = nn.Sequential(\n",
    "            nn.Conv1d(128, 64, kernel_size=3, padding=1),\n",
    "            nn.ReLU(),\n",
    "            nn.Conv1d(64, input_dim, kernel_size=3, padding=1)\n",
    "        )\n",
    "        \n",
    "    def forward(self, x, t):\n",
    "        x = self.encoder(x)\n",
    "        x = self.bottleneck(x)\n",
    "        x = self.decoder(x)\n",
    "        return x\n",
    "\n",
    "def forward_diffusion(x, timesteps, beta_schedule):\n",
    "    noise_levels = np.cumprod(1 - beta_schedule)\n",
    "    x_noisy = []\n",
    "    for t in range(timesteps):\n",
    "        # noise에 대해 명시적으로 dtype을 float32로 설정\n",
    "        noise = torch.randn_like(x) * torch.sqrt(torch.tensor(beta_schedule[t], dtype=torch.float32))\n",
    "        noisy_x = torch.sqrt(torch.tensor(noise_levels[t], dtype=torch.float32)) * x + noise\n",
    "        x_noisy.append(noisy_x)\n",
    "    return x_noisy\n",
    "\n",
    "def train_diffusion_model(sensor_data, epochs=500, lr=0.001, timesteps=10):\n",
    "    # Apple Silicon GPU (MPS) 우선, 그 외 cuda 또는 cpu 사용\n",
    "    device = torch.device(\"mps\") if torch.backends.mps.is_available() else torch.device('cuda' if torch.cuda.is_available() else 'cpu')\n",
    "    print(f\"Diffusion 모델 학습 시 사용 device: {device}\")\n",
    "    \n",
    "    model = UNet1D(input_dim=3).to(device)\n",
    "    optimizer = optim.Adam(model.parameters(), lr=lr)\n",
    "    criterion = nn.MSELoss()\n",
    "    # sensor_data: (N, 3) → (N, 3, 1)\n",
    "    sensor_data = torch.tensor(sensor_data, dtype=torch.float32).unsqueeze(-1).to(device)\n",
    "    beta_schedule = np.linspace(0.0001, 0.02, timesteps)\n",
    "    for epoch in tqdm(range(epochs), desc='Training Diffusion Model'):\n",
    "        optimizer.zero_grad()\n",
    "        idx = torch.randint(0, sensor_data.shape[0], (32,))\n",
    "        x = sensor_data[idx]\n",
    "        x_noisy_steps = forward_diffusion(x, timesteps, beta_schedule)\n",
    "        t = torch.randint(0, timesteps, (1,)).item()\n",
    "        noisy_x = x_noisy_steps[t]\n",
    "        predicted_x = model(noisy_x, t)\n",
    "        loss = criterion(predicted_x, x)\n",
    "        loss.backward()\n",
    "        optimizer.step()\n",
    "        if epoch % 100 == 0:\n",
    "            print(f'Epoch [{epoch}/{epochs}], Loss: {loss.item():.6f}')\n",
    "    return model\n",
    "\n",
    "def generate_synthetic_data(model, num_samples=100, timesteps=10):\n",
    "    # Apple Silicon GPU (MPS) 우선, 그 외 cuda 또는 cpu 사용\n",
    "    device = torch.device(\"mps\") if torch.backends.mps.is_available() else torch.device('cuda' if torch.cuda.is_available() else 'cpu')\n",
    "    print(f\"합성 데이터 생성 시 사용 device: {device}\")\n",
    "    \n",
    "    model.to(device)\n",
    "    model.eval()\n",
    "    beta_schedule = np.linspace(0.0001, 0.02, timesteps)\n",
    "    noise_levels = np.cumprod(1 - beta_schedule)\n",
    "    with torch.no_grad():\n",
    "        # 초기 노이즈 샘플 (합성 데이터 시작점)\n",
    "        synthetic_data = torch.randn((num_samples, 3, 1), dtype=torch.float32).to(device)\n",
    "        for t in reversed(range(timesteps)):\n",
    "            predicted_x = model(synthetic_data, t)\n",
    "            noise = torch.randn_like(predicted_x) * torch.sqrt(torch.tensor(beta_schedule[t], dtype=torch.float32))\n",
    "            synthetic_data = (predicted_x - noise) / torch.sqrt(torch.tensor(noise_levels[t], dtype=torch.float32))\n",
    "    # 마지막 차원 제거: (num_samples, 3, 1) → (num_samples, 3)\n",
    "    return synthetic_data.squeeze(-1).cpu().numpy()\n",
    "\n",
    "def prepare_loader(X, y, batch_size=64):\n",
    "    # CNN 모델 입력은 (N, 3) → unsqueeze(-1) → (N, 3, 1)\n",
    "    X_tensor = torch.tensor(X, dtype=torch.float32).unsqueeze(-1)\n",
    "    y_tensor = torch.tensor(y, dtype=torch.long)\n",
    "    dataset = TensorDataset(X_tensor, y_tensor)\n",
    "    loader = DataLoader(dataset, batch_size=batch_size, shuffle=True)\n",
    "    return loader\n",
    "\n",
    "#############################################\n",
    "# 3. 트레인셋 클래스별 밸런싱 (Diffusion을 이용한 증강)\n",
    "#############################################\n",
    "# 각 클래스별 원본 샘플 수 확인\n",
    "class_counts = train_df['activity'].value_counts()\n",
    "max_count = class_counts.max()\n",
    "print(\"최대 샘플 수:\", max_count)\n",
    "\n",
    "augmented_dfs = []\n",
    "\n",
    "# le.classes_에 포함된 각 클래스에 대해\n",
    "for cls in le.classes_:\n",
    "    df_cls = train_df[train_df['activity'] == cls].copy()\n",
    "    count = df_cls.shape[0]\n",
    "    print(f\"클래스 '{cls}'의 원본 샘플 수: {count}\")\n",
    "    \n",
    "    # 부족한 샘플 수(diff) 계산\n",
    "    if count < max_count:\n",
    "        diff = max_count - count\n",
    "        print(f\"클래스 '{cls}'의 부족한 샘플 수: {diff}\")\n",
    "        # 센서 데이터 추출 (열: 'x_axis', 'y_axis', 'z_axis')\n",
    "        sensor_data = df_cls[['x_axis', 'y_axis', 'z_axis']].values\n",
    "        # 해당 클래스에 대해 Diffusion 모델 학습 (증강 품질에 따라 epochs, timesteps 조정)\n",
    "        diffusion_model = train_diffusion_model(sensor_data, epochs=500, lr=0.001, timesteps=10)\n",
    "        # 부족한 개수만큼 합성 데이터 생성\n",
    "        synthetic_data = generate_synthetic_data(diffusion_model, num_samples=diff, timesteps=10)\n",
    "        # 합성 데이터를 DataFrame으로 변환\n",
    "        df_synth = pd.DataFrame(synthetic_data, columns=['x_axis', 'y_axis', 'z_axis'])\n",
    "        df_synth['activity'] = cls\n",
    "        df_synth['activity_encoded'] = le.transform([cls])[0]\n",
    "        # 원본 데이터와 합성 데이터를 결합\n",
    "        df_cls = pd.concat([df_cls, df_synth], axis=0)\n",
    "    else:\n",
    "        print(f\"클래스 '{cls}'는 이미 충분한 샘플 수 보유\")\n",
    "    \n",
    "    augmented_dfs.append(df_cls)\n",
    "\n",
    "# 모든 클래스 데이터를 합쳐 밸런스된 트레인셋 구성\n",
    "df_train_balanced = pd.concat(augmented_dfs, axis=0).reset_index(drop=True)\n",
    "print(\"밸런스된 트레인셋 shape:\", df_train_balanced.shape)\n",
    "print(\"밸런스된 트레인셋 클래스별 샘플 수:\\n\", df_train_balanced['activity'].value_counts())"
   ]
  },
  {
   "cell_type": "code",
   "execution_count": 19,
   "id": "0aa85090-61cf-4681-925c-c383d70cfa3e",
   "metadata": {},
   "outputs": [
    {
     "name": "stdout",
     "output_type": "stream",
     "text": [
      "활동 클래스: ['Downstairs' 'Jogging' 'Sitting' 'Standing' 'Upstairs' 'Walking']\n",
      "원본 클래스별 샘플 수:\n",
      " activity_encoded\n",
      "0    339355\n",
      "1    339355\n",
      "2    339355\n",
      "3    339355\n",
      "4    339355\n",
      "5    339355\n",
      "Name: count, dtype: int64\n"
     ]
    }
   ],
   "source": [
    "\n",
    "#############################################\n",
    "# 1. 레이블 인코딩\n",
    "#############################################\n",
    "le = LabelEncoder()\n",
    "df_train_balanced['activity_encoded'] = le.fit_transform(df_train_balanced['activity'])\n",
    "num_classes = len(le.classes_)\n",
    "print(\"활동 클래스:\", le.classes_)\n",
    "print(\"원본 클래스별 샘플 수:\\n\", df_train_balanced['activity_encoded'].value_counts())\n"
   ]
  },
  {
   "cell_type": "code",
   "execution_count": 20,
   "id": "d37f5e74-b172-4e20-818f-8a252b2bf1b1",
   "metadata": {
    "scrolled": true
   },
   "outputs": [
    {
     "data": {
      "text/plain": [
       "<Axes: xlabel='activity', ylabel='count'>"
      ]
     },
     "execution_count": 20,
     "metadata": {},
     "output_type": "execute_result"
    },
    {
     "data": {
      "image/png": "[encoded data removed]",
      "text/plain": [
       "<Figure size 800x600 with 1 Axes>"
      ]
     },
     "metadata": {},
     "output_type": "display_data"
    }
   ],
   "source": [
    "plt.figure(figsize=(8, 6))\n",
    "sns.countplot(x = \"activity\", data = df_train_balanced, order = df_train_balanced.activity.value_counts().index)\n",
    "     "
   ]
  },
  {
   "cell_type": "code",
   "execution_count": 10,
   "id": "150b29be-d0a9-4815-b491-8a6f078c75e1",
   "metadata": {},
   "outputs": [
    {
     "name": "stdout",
     "output_type": "stream",
     "text": [
      "최대 샘플 수: 424397\n",
      "클래스 Downstairs의 원본 샘플 수: 100427\n",
      "클래스 Downstairs의 부족한 샘플 수: 323970\n"
     ]
    },
    {
     "name": "stderr",
     "output_type": "stream",
     "text": [
      "Training Diffusion Model:   5%|▊               | 27/500 [00:00<00:05, 89.87it/s]"
     ]
    },
    {
     "name": "stdout",
     "output_type": "stream",
     "text": [
      "Epoch [0/500], Loss: 46.063290\n"
     ]
    },
    {
     "name": "stderr",
     "output_type": "stream",
     "text": [
      "Training Diffusion Model:  27%|███▋          | 133/500 [00:00<00:01, 222.37it/s]"
     ]
    },
    {
     "name": "stdout",
     "output_type": "stream",
     "text": [
      "Epoch [100/500], Loss: 0.338068\n"
     ]
    },
    {
     "name": "stderr",
     "output_type": "stream",
     "text": [
      "Training Diffusion Model:  48%|██████▋       | 238/500 [00:01<00:01, 250.39it/s]"
     ]
    },
    {
     "name": "stdout",
     "output_type": "stream",
     "text": [
      "Epoch [200/500], Loss: 0.022754\n"
     ]
    },
    {
     "name": "stderr",
     "output_type": "stream",
     "text": [
      "Training Diffusion Model:  69%|█████████▋    | 345/500 [00:01<00:00, 260.92it/s]"
     ]
    },
    {
     "name": "stdout",
     "output_type": "stream",
     "text": [
      "Epoch [300/500], Loss: 0.054647\n"
     ]
    },
    {
     "name": "stderr",
     "output_type": "stream",
     "text": [
      "Training Diffusion Model:  90%|████████████▋ | 452/500 [00:02<00:00, 260.66it/s]"
     ]
    },
    {
     "name": "stdout",
     "output_type": "stream",
     "text": [
      "Epoch [400/500], Loss: 0.103797\n"
     ]
    },
    {
     "name": "stderr",
     "output_type": "stream",
     "text": [
      "\n",
      "raining Diffusion Model: 100%|██████████████| 500/500 [00:02<00:00, 226.80it/s]"
     ]
    },
    {
     "name": "stdout",
     "output_type": "stream",
     "text": [
      "클래스 Jogging의 원본 샘플 수: 342176\n",
      "클래스 Jogging의 부족한 샘플 수: 82221\n"
     ]
    },
    {
     "name": "stderr",
     "output_type": "stream",
     "text": [
      "Training Diffusion Model:   5%|▊              | 25/500 [00:00<00:01, 249.23it/s]"
     ]
    },
    {
     "name": "stdout",
     "output_type": "stream",
     "text": [
      "Epoch [0/500], Loss: 58.317665\n"
     ]
    },
    {
     "name": "stderr",
     "output_type": "stream",
     "text": [
      "Training Diffusion Model:  26%|███▋          | 131/500 [00:00<00:01, 256.11it/s]"
     ]
    },
    {
     "name": "stdout",
     "output_type": "stream",
     "text": [
      "Epoch [100/500], Loss: 1.012912\n"
     ]
    },
    {
     "name": "stderr",
     "output_type": "stream",
     "text": [
      "Training Diffusion Model:  48%|██████▋       | 238/500 [00:00<00:01, 260.52it/s]"
     ]
    },
    {
     "name": "stdout",
     "output_type": "stream",
     "text": [
      "Epoch [200/500], Loss: 0.052426\n"
     ]
    },
    {
     "name": "stderr",
     "output_type": "stream",
     "text": [
      "Training Diffusion Model:  69%|█████████▋    | 346/500 [00:01<00:00, 255.59it/s]"
     ]
    },
    {
     "name": "stdout",
     "output_type": "stream",
     "text": [
      "Epoch [300/500], Loss: 0.060811\n"
     ]
    },
    {
     "name": "stderr",
     "output_type": "stream",
     "text": [
      "Training Diffusion Model:  85%|███████████▉  | 427/500 [00:01<00:00, 260.52it/s]"
     ]
    },
    {
     "name": "stdout",
     "output_type": "stream",
     "text": [
      "Epoch [400/500], Loss: 0.089985\n"
     ]
    },
    {
     "name": "stderr",
     "output_type": "stream",
     "text": [
      "\n",
      "raining Diffusion Model: 100%|██████████████| 500/500 [00:01<00:00, 258.96it/s]"
     ]
    },
    {
     "name": "stdout",
     "output_type": "stream",
     "text": [
      "클래스 Sitting의 원본 샘플 수: 59939\n",
      "클래스 Sitting의 부족한 샘플 수: 364458\n"
     ]
    },
    {
     "name": "stderr",
     "output_type": "stream",
     "text": [
      "Training Diffusion Model:   5%|▊              | 25/500 [00:00<00:01, 242.15it/s]"
     ]
    },
    {
     "name": "stdout",
     "output_type": "stream",
     "text": [
      "Epoch [0/500], Loss: 33.433434\n"
     ]
    },
    {
     "name": "stderr",
     "output_type": "stream",
     "text": [
      "Training Diffusion Model:  25%|███▌          | 127/500 [00:00<00:01, 234.83it/s]"
     ]
    },
    {
     "name": "stdout",
     "output_type": "stream",
     "text": [
      "Epoch [100/500], Loss: 0.343496\n"
     ]
    },
    {
     "name": "stderr",
     "output_type": "stream",
     "text": [
      "Training Diffusion Model:  47%|██████▌       | 234/500 [00:00<00:01, 255.76it/s]"
     ]
    },
    {
     "name": "stdout",
     "output_type": "stream",
     "text": [
      "Epoch [200/500], Loss: 0.057874\n"
     ]
    },
    {
     "name": "stderr",
     "output_type": "stream",
     "text": [
      "Training Diffusion Model:  68%|█████████▌    | 341/500 [00:01<00:00, 257.42it/s]"
     ]
    },
    {
     "name": "stdout",
     "output_type": "stream",
     "text": [
      "Epoch [300/500], Loss: 0.057944\n"
     ]
    },
    {
     "name": "stderr",
     "output_type": "stream",
     "text": [
      "Training Diffusion Model:  89%|████████████▌ | 447/500 [00:01<00:00, 259.65it/s]"
     ]
    },
    {
     "name": "stdout",
     "output_type": "stream",
     "text": [
      "Epoch [400/500], Loss: 0.041039\n"
     ]
    },
    {
     "name": "stderr",
     "output_type": "stream",
     "text": [
      "\n",
      "raining Diffusion Model: 100%|██████████████| 500/500 [00:01<00:00, 250.23it/s]"
     ]
    },
    {
     "name": "stdout",
     "output_type": "stream",
     "text": [
      "클래스 Standing의 원본 샘플 수: 48395\n",
      "클래스 Standing의 부족한 샘플 수: 376002\n"
     ]
    },
    {
     "name": "stderr",
     "output_type": "stream",
     "text": [
      "Training Diffusion Model:   5%|▊              | 26/500 [00:00<00:01, 254.18it/s]"
     ]
    },
    {
     "name": "stdout",
     "output_type": "stream",
     "text": [
      "Epoch [0/500], Loss: 32.320961\n"
     ]
    },
    {
     "name": "stderr",
     "output_type": "stream",
     "text": [
      "Training Diffusion Model:  27%|███▋          | 133/500 [00:00<00:01, 264.28it/s]"
     ]
    },
    {
     "name": "stdout",
     "output_type": "stream",
     "text": [
      "Epoch [100/500], Loss: 4.304397\n"
     ]
    },
    {
     "name": "stderr",
     "output_type": "stream",
     "text": [
      "Training Diffusion Model:  47%|██████▌       | 236/500 [00:00<00:01, 231.34it/s]"
     ]
    },
    {
     "name": "stdout",
     "output_type": "stream",
     "text": [
      "Epoch [200/500], Loss: 0.545741\n"
     ]
    },
    {
     "name": "stderr",
     "output_type": "stream",
     "text": [
      "Training Diffusion Model:  67%|█████████▎    | 334/500 [00:01<00:00, 224.96it/s]"
     ]
    },
    {
     "name": "stdout",
     "output_type": "stream",
     "text": [
      "Epoch [300/500], Loss: 0.177848\n"
     ]
    },
    {
     "name": "stderr",
     "output_type": "stream",
     "text": [
      "Training Diffusion Model:  87%|████████████▏ | 436/500 [00:01<00:00, 241.19it/s]"
     ]
    },
    {
     "name": "stdout",
     "output_type": "stream",
     "text": [
      "Epoch [400/500], Loss: 0.042174\n"
     ]
    },
    {
     "name": "stderr",
     "output_type": "stream",
     "text": [
      "\n",
      "raining Diffusion Model: 100%|██████████████| 500/500 [00:02<00:00, 241.76it/s]"
     ]
    },
    {
     "name": "stdout",
     "output_type": "stream",
     "text": [
      "클래스 Upstairs의 원본 샘플 수: 122869\n",
      "클래스 Upstairs의 부족한 샘플 수: 301528\n"
     ]
    },
    {
     "name": "stderr",
     "output_type": "stream",
     "text": [
      "Training Diffusion Model:   4%|▌              | 19/500 [00:00<00:02, 188.59it/s]"
     ]
    },
    {
     "name": "stdout",
     "output_type": "stream",
     "text": [
      "Epoch [0/500], Loss: 43.160767\n"
     ]
    },
    {
     "name": "stderr",
     "output_type": "stream",
     "text": [
      "Training Diffusion Model:  30%|████▏         | 149/500 [00:00<00:01, 252.75it/s]"
     ]
    },
    {
     "name": "stdout",
     "output_type": "stream",
     "text": [
      "Epoch [100/500], Loss: 0.512888\n"
     ]
    },
    {
     "name": "stderr",
     "output_type": "stream",
     "text": [
      "Training Diffusion Model:  45%|██████▎       | 227/500 [00:00<00:01, 256.82it/s]"
     ]
    },
    {
     "name": "stdout",
     "output_type": "stream",
     "text": [
      "Epoch [200/500], Loss: 0.066156\n"
     ]
    },
    {
     "name": "stderr",
     "output_type": "stream",
     "text": [
      "Training Diffusion Model:  66%|█████████▎    | 331/500 [00:01<00:00, 242.31it/s]"
     ]
    },
    {
     "name": "stdout",
     "output_type": "stream",
     "text": [
      "Epoch [300/500], Loss: 0.073910\n"
     ]
    },
    {
     "name": "stderr",
     "output_type": "stream",
     "text": [
      "Training Diffusion Model:  87%|████████████▏ | 436/500 [00:01<00:00, 247.99it/s]"
     ]
    },
    {
     "name": "stdout",
     "output_type": "stream",
     "text": [
      "Epoch [400/500], Loss: 0.154101\n"
     ]
    },
    {
     "name": "stderr",
     "output_type": "stream",
     "text": [
      "\n",
      "raining Diffusion Model: 100%|██████████████| 500/500 [00:02<00:00, 242.63it/s]"
     ]
    },
    {
     "name": "stdout",
     "output_type": "stream",
     "text": [
      "클래스 Walking의 원본 샘플 수: 424397\n",
      "클래스 Walking는 이미 충분한 샘플 수 보유\n",
      "밸런스된 트레인셋 shape: (2546382, 8)\n",
      "밸런스된 트레인셋 클래스별 샘플 수:\n",
      " activity\n",
      "Downstairs    424397\n",
      "Jogging       424397\n",
      "Sitting       424397\n",
      "Standing      424397\n",
      "Upstairs      424397\n",
      "Walking       424397\n",
      "Name: count, dtype: int64\n"
     ]
    }
   ],
   "source": [
    "\n",
    "#############################################\n",
    "# 3. 트레인셋 클래스별 밸런싱 (Diffusion을 이용한 증강)\n",
    "#############################################\n",
    "# 각 클래스별 원본 샘플 수 확인\n",
    "class_counts = df['activity'].value_counts()\n",
    "max_count = class_counts.max()\n",
    "print(\"최대 샘플 수:\", max_count)\n",
    "\n",
    "augmented_dfs = []\n",
    "for cls in le.classes_:\n",
    "    df_cls = df[df['activity'] == cls].copy()\n",
    "    count = df_cls.shape[0]\n",
    "    print(f\"클래스 {cls}의 원본 샘플 수: {count}\")\n",
    "    if count < max_count:\n",
    "        diff = max_count - count\n",
    "        print(f\"클래스 {cls}의 부족한 샘플 수: {diff}\")\n",
    "        # 센서 데이터 추출 (열 이름 변경: 'x_axis', 'y_axis', 'z_axis')\n",
    "        sensor_data = df_cls[['x_axis', 'y_axis', 'z_axis']].values\n",
    "        # Diffusion 모델 학습 (여기서는 증강 품질에 따라 epochs=500, timesteps=10 사용)\n",
    "        diffusion_model = train_diffusion_model(sensor_data, epochs=500, lr=0.001, timesteps=10)\n",
    "        # 부족한 개수만큼 합성 데이터 생성\n",
    "        synthetic_data = generate_synthetic_data(diffusion_model, num_samples=diff, timesteps=10)\n",
    "        # 합성 데이터를 DataFrame으로 변환\n",
    "        df_synth = pd.DataFrame(synthetic_data, columns=['x_axis', 'y_axis', 'z_axis'])\n",
    "        df_synth['activity'] = cls\n",
    "        df_synth['activity_encoded'] = le.transform([cls])[0]\n",
    "        # 원본 데이터와 합성 데이터를 결합\n",
    "        df_cls = pd.concat([df_cls, df_synth], axis=0)\n",
    "    else:\n",
    "        print(f\"클래스 {cls}는 이미 충분한 샘플 수 보유\")\n",
    "    augmented_dfs.append(df_cls)\n",
    "\n",
    "df_train_balanced = pd.concat(augmented_dfs, axis=0).reset_index(drop=True)\n",
    "print(\"밸런스된 트레인셋 shape:\", df_train_balanced.shape)\n",
    "print(\"밸런스된 트레인셋 클래스별 샘플 수:\\n\", df_train_balanced['activity'].value_counts())\n"
   ]
  },
  {
   "cell_type": "code",
   "execution_count": 23,
   "id": "635c5fc5-a9d3-406f-a4b2-b890c37d08f5",
   "metadata": {},
   "outputs": [],
   "source": [
    "#############################################\n",
    "# 2. 시계열 데이터 세그먼테이션 함수 정의\n",
    "#############################################\n",
    "def create_dataset(X, y, time_steps=1, step=1):\n",
    "    \"\"\"\n",
    "    X: 센서 데이터가 담긴 DataFrame (예: [\"x_axis\", \"y_axis\", \"z_axis\"])\n",
    "    y: 라벨(인코딩된 값)이 담긴 Series (예: df[\"ActivityEncoded\"])\n",
    "    time_steps: 각 시퀀스(윈도우)의 길이 (예: 200)\n",
    "    step: 윈도우 생성 시 이동 간격 (예: 40)\n",
    "    \"\"\"\n",
    "    Xs, ys = [], []\n",
    "    for i in range(0, len(X) - time_steps, step):\n",
    "        # i부터 i+time_steps까지의 센서 데이터를 numpy 배열로 변환\n",
    "        v = X.iloc[i:(i + time_steps)].values\n",
    "        # 해당 구간의 라벨들을 선택하고, 다수결(mode)로 대표 라벨 결정\n",
    "        window_labels = y.iloc[i:(i + time_steps)]\n",
    "        mode_result = stats.mode(window_labels)\n",
    "        mode_label = mode_result.mode\n",
    "        # 만약 mode_label이 배열이면 첫 번째 원소 선택\n",
    "        if isinstance(mode_label, np.ndarray):\n",
    "            mode_label = mode_label[0]\n",
    "        Xs.append(v)\n",
    "        ys.append(mode_label)\n",
    "    return np.array(Xs), np.array(ys).reshape(-1, 1)"
   ]
  },
  {
   "cell_type": "code",
   "execution_count": 25,
   "id": "4a2d220f-9dbe-4e12-ac37-a1b47cc82d17",
   "metadata": {},
   "outputs": [
    {
     "name": "stdout",
     "output_type": "stream",
     "text": [
      "Train shape: (32575, 200, 3) (32575, 1)\n",
      "Validation shape: (8144, 200, 3) (8144, 1)\n",
      "Test shape: (10180, 200, 3) (10180, 1)\n"
     ]
    }
   ],
   "source": [
    "TIME_STEPS = 200  # 각 윈도우(시퀀스)의 길이\n",
    "STEP = 40    \n",
    "# (예를 들어, 이미 df_train_balanced에 'activity_encoded' 컬럼이 있다고 가정)\n",
    "X_data, y_data = create_dataset(df_train_balanced[[\"x_axis\", \"y_axis\", \"z_axis\"]],\n",
    "                                df_train_balanced[\"activity_encoded\"],\n",
    "                                time_steps=TIME_STEPS, step=STEP)\n",
    "\n",
    "# 전체 데이터에서 test set 분리 (stratify 옵션으로 클래스 비율 유지)\n",
    "X_train, X_test, y_train, y_test = train_test_split(\n",
    "    X_data, y_data, test_size=0.2, random_state=42, stratify=y_data\n",
    ")\n",
    "# train set에서 validation set 분리 (전체의 20%를 validation으로 사용)\n",
    "X_train, X_val, y_train, y_val = train_test_split(\n",
    "    X_train, y_train, test_size=0.2, random_state=42, stratify=y_train\n",
    ")\n",
    "print(\"Train shape:\", X_train.shape, y_train.shape)\n",
    "print(\"Validation shape:\", X_val.shape, y_val.shape)\n",
    "print(\"Test shape:\", X_test.shape, y_test.shape)"
   ]
  },
  {
   "cell_type": "code",
   "execution_count": 26,
   "id": "4422ba5a-ceaa-4e1d-9b7a-e0dceed250c0",
   "metadata": {
    "scrolled": true
   },
   "outputs": [
    {
     "data": {
      "text/plain": [
       "<Axes: xlabel='activity', ylabel='count'>"
      ]
     },
     "execution_count": 26,
     "metadata": {},
     "output_type": "execute_result"
    },
    {
     "data": {
      "image/png": "[encoded data removed]",
      "text/plain": [
       "<Figure size 800x600 with 1 Axes>"
      ]
     },
     "metadata": {},
     "output_type": "display_data"
    }
   ],
   "source": [
    "plt.figure(figsize=(8, 6))\n",
    "sns.countplot(x = \"activity\", data = df_train_balanced, order = df_train_balanced.activity.value_counts().index)\n",
    "     "
   ]
  },
  {
   "cell_type": "code",
   "execution_count": 30,
   "id": "1bf7e464-e08e-42ff-a703-27b40b223b2d",
   "metadata": {},
   "outputs": [],
   "source": [
    "#############################################\n",
    "# 4. PyTorch DataLoader 준비\n",
    "#############################################\n",
    "import torch\n",
    "from torch.utils.data import DataLoader, TensorDataset\n",
    "\n",
    "def prepare_loader(X, y, batch_size=64):\n",
    "    # CNN 모델 입력은 (batch, channels, length) → 변환: (N, window_size, 3) → (N, 3, window_size)\n",
    "    X_tensor = torch.tensor(X, dtype=torch.float32).permute(0, 2, 1)\n",
    "    # y는 정수형 라벨, shape (N,1) -> squeeze하여 (N,)\n",
    "    y_tensor = torch.tensor(y, dtype=torch.long).squeeze()\n",
    "    dataset = TensorDataset(X_tensor, y_tensor)\n",
    "    loader = DataLoader(dataset, batch_size=batch_size, shuffle=True)\n",
    "    return loader\n",
    "\n",
    "train_loader = prepare_loader(X_train, y_train, batch_size=64)\n",
    "val_loader = prepare_loader(X_val, y_val, batch_size=64)\n",
    "test_loader = prepare_loader(X_test, y_test, batch_size=64)\n"
   ]
  },
  {
   "cell_type": "code",
   "execution_count": 27,
   "id": "c1c82040-ddff-4a1e-89b1-0710de4b61d2",
   "metadata": {},
   "outputs": [],
   "source": [
    "#############################################\n",
    "# 2. 시계열 데이터 세그먼테이션 함수 정의\n",
    "#############################################\n",
    "def create_dataset(X, y, time_steps=1, step=1):\n",
    "    \"\"\"\n",
    "    X: 센서 데이터가 담긴 DataFrame (예: [\"x_axis\", \"y_axis\", \"z_axis\"])\n",
    "    y: 라벨(인코딩된 값)이 담긴 Series (예: df[\"ActivityEncoded\"])\n",
    "    time_steps: 각 시퀀스(윈도우)의 길이 (예: 200)\n",
    "    step: 윈도우 생성 시 이동 간격 (예: 40)\n",
    "    \"\"\"\n",
    "    Xs, ys = [], []\n",
    "    for i in range(0, len(X) - time_steps, step):\n",
    "        # i부터 i+time_steps까지의 센서 데이터를 numpy 배열로 변환\n",
    "        v = X.iloc[i:(i + time_steps)].values\n",
    "        # 해당 구간의 라벨들을 선택하고, 다수결(mode)로 대표 라벨 결정\n",
    "        window_labels = y.iloc[i:(i + time_steps)]\n",
    "        mode_result = stats.mode(window_labels)\n",
    "        mode_label = mode_result.mode\n",
    "        # 만약 mode_label이 배열이면 첫 번째 원소 선택\n",
    "        if isinstance(mode_label, np.ndarray):\n",
    "            mode_label = mode_label[0]\n",
    "        Xs.append(v)\n",
    "        ys.append(mode_label)\n",
    "    return np.array(Xs), np.array(ys).reshape(-1, 1)"
   ]
  },
  {
   "cell_type": "code",
   "execution_count": 28,
   "id": "c88ebe43-bb1c-4ad6-92f3-30420569777c",
   "metadata": {},
   "outputs": [
    {
     "name": "stdout",
     "output_type": "stream",
     "text": [
      "Using device: MPS (Apple GPU)\n"
     ]
    }
   ],
   "source": [
    "\n",
    "#############################################\n",
    "# 5. 간단한 1D CNN 분류기 정의\n",
    "#############################################\n",
    "import torch.nn as nn\n",
    "import torch.optim as optim\n",
    "\n",
    "# Device 설정 (MPS, CUDA 또는 CPU)\n",
    "if torch.backends.mps.is_available():\n",
    "    device = torch.device(\"mps\")\n",
    "    print(\"Using device: MPS (Apple GPU)\")\n",
    "else:\n",
    "    device = torch.device(\"cuda\" if torch.cuda.is_available() else \"cpu\")\n",
    "    print(\"Using device:\", device)\n",
    "\n",
    "class SimpleCNN(nn.Module):\n",
    "    def __init__(self, num_classes, window_size=200):\n",
    "        super(SimpleCNN, self).__init__()\n",
    "        self.conv1 = nn.Conv1d(in_channels=3, out_channels=32, kernel_size=3, padding=1)\n",
    "        self.relu = nn.ReLU()\n",
    "        self.pool = nn.MaxPool1d(kernel_size=2)\n",
    "        self.conv2 = nn.Conv1d(in_channels=32, out_channels=64, kernel_size=3, padding=1)\n",
    "        self.fc1 = nn.Linear(64 * (window_size // 4), 128)\n",
    "        self.fc2 = nn.Linear(128, num_classes)\n",
    "        \n",
    "    def forward(self, x):\n",
    "        x = self.conv1(x)\n",
    "        x = self.relu(x)\n",
    "        x = self.pool(x)\n",
    "        x = self.conv2(x)\n",
    "        x = self.relu(x)\n",
    "        x = self.pool(x)\n",
    "        x = x.view(x.size(0), -1)  # Flatten\n",
    "        x = self.fc1(x)\n",
    "        x = self.relu(x)\n",
    "        x = self.fc2(x)\n",
    "        return x"
   ]
  },
  {
   "cell_type": "code",
   "execution_count": 31,
   "id": "59baac57-7ee3-4422-9df1-44b57bc490bd",
   "metadata": {},
   "outputs": [
    {
     "name": "stdout",
     "output_type": "stream",
     "text": [
      "\n",
      "=== 모델 학습 시작 ===\n",
      "Epoch 1/10, Train Loss: 0.2863, Train Acc: 0.8958, Val Loss: 0.0523, Val Acc: 0.9805\n",
      "Epoch 2/10, Train Loss: 0.0496, Train Acc: 0.9825, Val Loss: 0.0356, Val Acc: 0.9869\n",
      "Epoch 3/10, Train Loss: 0.0294, Train Acc: 0.9896, Val Loss: 0.0324, Val Acc: 0.9882\n",
      "Epoch 4/10, Train Loss: 0.0224, Train Acc: 0.9919, Val Loss: 0.0317, Val Acc: 0.9888\n",
      "Epoch 5/10, Train Loss: 0.0115, Train Acc: 0.9967, Val Loss: 0.0415, Val Acc: 0.9870\n",
      "Epoch 6/10, Train Loss: 0.0102, Train Acc: 0.9963, Val Loss: 0.0767, Val Acc: 0.9781\n",
      "Epoch 7/10, Train Loss: 0.0095, Train Acc: 0.9964, Val Loss: 0.0320, Val Acc: 0.9918\n",
      "Epoch 8/10, Train Loss: 0.0168, Train Acc: 0.9952, Val Loss: 0.0366, Val Acc: 0.9912\n",
      "Epoch 9/10, Train Loss: 0.0037, Train Acc: 0.9986, Val Loss: 0.0361, Val Acc: 0.9903\n",
      "Epoch 10/10, Train Loss: 0.0076, Train Acc: 0.9975, Val Loss: 0.0395, Val Acc: 0.9889\n"
     ]
    }
   ],
   "source": [
    "#############################################\n",
    "# 6. 모델 학습 및 평가\n",
    "#############################################\n",
    "num_epochs = 10  # 학습 에폭 수\n",
    "window_size=200\n",
    "model = SimpleCNN(num_classes=num_classes, window_size=window_size).to(device)\n",
    "criterion = nn.CrossEntropyLoss()\n",
    "optimizer = optim.Adam(model.parameters(), lr=0.001)\n",
    "print(\"\\n=== 모델 학습 시작 ===\")\n",
    "# 에폭별 손실과 정확도를 저장할 리스트\n",
    "train_losses = []\n",
    "train_accuracies = []\n",
    "val_losses = []\n",
    "val_accuracies = []\n",
    "\n",
    "for epoch in range(num_epochs):\n",
    "    # Training Phase\n",
    "    model.train()\n",
    "    running_loss = 0.0\n",
    "    running_corrects = 0\n",
    "    total_train = 0\n",
    "\n",
    "    for X_batch, y_batch in train_loader:\n",
    "        X_batch = X_batch.to(device)\n",
    "        y_batch = y_batch.to(device)\n",
    "        optimizer.zero_grad()\n",
    "        outputs = model(X_batch)\n",
    "        loss = criterion(outputs, y_batch)\n",
    "        loss.backward()\n",
    "        optimizer.step()\n",
    "        running_loss += loss.item() * X_batch.size(0)\n",
    "        _, preds = torch.max(outputs, 1)\n",
    "        running_corrects += torch.sum(preds == y_batch)\n",
    "        total_train += y_batch.size(0)\n",
    "    \n",
    "    epoch_train_loss = running_loss / total_train\n",
    "    epoch_train_acc = running_corrects.float() / total_train\n",
    "    train_losses.append(epoch_train_loss)\n",
    "    train_accuracies.append(epoch_train_acc.item())\n",
    "    \n",
    "    # Validation Phase\n",
    "    model.eval()\n",
    "    val_running_loss = 0.0\n",
    "    val_running_corrects = 0\n",
    "    total_val = 0\n",
    "    with torch.no_grad():\n",
    "        for X_val, y_val in val_loader:\n",
    "            X_val = X_val.to(device)\n",
    "            y_val = y_val.to(device)\n",
    "            outputs = model(X_val)\n",
    "            loss = criterion(outputs, y_val)\n",
    "            val_running_loss += loss.item() * X_val.size(0)\n",
    "            _, preds = torch.max(outputs, 1)\n",
    "            val_running_corrects += torch.sum(preds == y_val)\n",
    "            total_val += y_val.size(0)\n",
    "    epoch_val_loss = val_running_loss / total_val\n",
    "    epoch_val_acc = val_running_corrects.float() / total_val\n",
    "    val_losses.append(epoch_val_loss)\n",
    "    val_accuracies.append(epoch_val_acc.item())\n",
    "    \n",
    "    print(f\"Epoch {epoch+1}/{num_epochs}, \"\n",
    "          f\"Train Loss: {epoch_train_loss:.4f}, Train Acc: {epoch_train_acc:.4f}, \"\n",
    "          f\"Val Loss: {epoch_val_loss:.4f}, Val Acc: {epoch_val_acc:.4f}\")\n"
   ]
  },
  {
   "cell_type": "code",
   "execution_count": 32,
   "id": "881f54e3-9f05-4b85-9ca1-845d01e0b359",
   "metadata": {},
   "outputs": [
    {
     "name": "stdout",
     "output_type": "stream",
     "text": [
      "테스트 정확도: 98.82%\n"
     ]
    }
   ],
   "source": [
    "model.eval()\n",
    "correct = 0\n",
    "total = 0\n",
    "with torch.no_grad():\n",
    "    for X_batch, y_batch in test_loader:\n",
    "        X_batch = X_batch.to(device)\n",
    "        y_batch = y_batch.to(device).squeeze()  # 만약 y_batch가 (batch_size, 1)이라면\n",
    "        outputs = model(X_batch)\n",
    "        _, predicted = torch.max(outputs, 1)\n",
    "        total += y_batch.size(0)\n",
    "        correct += (predicted == y_batch).sum().item()\n",
    "\n",
    "accuracy = 100 * correct / total\n",
    "print(f\"테스트 정확도: {accuracy:.2f}%\")"
   ]
  },
  {
   "cell_type": "code",
   "execution_count": 33,
   "id": "0eaa4a4c-f2d3-4384-8687-0ba4b57c1791",
   "metadata": {},
   "outputs": [
    {
     "data": {
      "image/png": "[encoded data removed]",
      "text/plain": [
       "<Figure size 1200x500 with 2 Axes>"
      ]
     },
     "metadata": {},
     "output_type": "display_data"
    }
   ],
   "source": [
    "# 학습 및 검증 결과 플롯팅\n",
    "import matplotlib.pyplot as plt\n",
    "\n",
    "plt.figure(figsize=(12, 5))\n",
    "\n",
    "# 손실 플롯\n",
    "plt.subplot(1, 2, 1)\n",
    "plt.plot(range(1, num_epochs+1), train_losses, marker='o', label='Train Loss')\n",
    "plt.plot(range(1, num_epochs+1), val_losses, marker='o', label='Val Loss')\n",
    "plt.title('Model Loss')\n",
    "plt.xlabel('Epoch')\n",
    "plt.ylabel('Loss')\n",
    "plt.legend(loc='upper left')\n",
    "\n",
    "# 정확도 플롯\n",
    "plt.subplot(1, 2, 2)\n",
    "plt.plot(range(1, num_epochs+1), train_accuracies, marker='o', label='Train Accuracy')\n",
    "plt.plot(range(1, num_epochs+1), val_accuracies, marker='o', label='Val Accuracy')\n",
    "plt.title('Model Accuracy')\n",
    "plt.xlabel('Epoch')\n",
    "plt.ylabel('Accuracy')\n",
    "plt.legend(loc='upper left')\n",
    "\n",
    "plt.tight_layout()\n",
    "plt.show()"
   ]
  },
  {
   "cell_type": "code",
   "execution_count": 34,
   "id": "66c4c121-f6e1-4a6a-9a22-b2071e56cde4",
   "metadata": {},
   "outputs": [
    {
     "name": "stdout",
     "output_type": "stream",
     "text": [
      "F1 Score (weighted): 0.9882237879408649\n",
      "Accuracy: 0.9882121807465619\n",
      "Classification Report:\n",
      "              precision    recall  f1-score   support\n",
      "\n",
      "     Walking       0.97      0.97      0.97      1696\n",
      "     Jogging       1.00      1.00      1.00      1697\n",
      "    Upstairs       1.00      1.00      1.00      1697\n",
      "  Downstairs       1.00      1.00      1.00      1697\n",
      "     Sitting       0.96      0.97      0.97      1697\n",
      "    Standing       0.99      0.99      0.99      1696\n",
      "\n",
      "    accuracy                           0.99     10180\n",
      "   macro avg       0.99      0.99      0.99     10180\n",
      "weighted avg       0.99      0.99      0.99     10180\n",
      "\n"
     ]
    },
    {
     "data": {
      "image/png": "[encoded data removed]",
      "text/plain": [
       "<Figure size 800x600 with 2 Axes>"
      ]
     },
     "metadata": {},
     "output_type": "display_data"
    }
   ],
   "source": [
    "import numpy as np\n",
    "import torch\n",
    "from sklearn.metrics import confusion_matrix, classification_report, accuracy_score, f1_score\n",
    "import seaborn as sns\n",
    "import matplotlib.pyplot as plt\n",
    "\n",
    "# LABELS는 클래스 이름을 지정합니다.\n",
    "LABELS = ['Walking', 'Jogging', 'Upstairs', 'Downstairs', 'Sitting', 'Standing']\n",
    "\n",
    "# 모델을 평가 모드로 전환\n",
    "model.eval()\n",
    "\n",
    "# 전체 test 데이터에 대해 예측값과 정답을 모읍니다.\n",
    "all_preds = []\n",
    "all_true = []\n",
    "\n",
    "with torch.no_grad():\n",
    "    for X_batch, y_batch in test_loader:\n",
    "        X_batch = X_batch.to(device)\n",
    "        y_batch = y_batch.to(device)\n",
    "        outputs = model(X_batch)\n",
    "        # 각 샘플에 대해 가장 높은 확률을 가진 클래스 인덱스 선택\n",
    "        _, preds = torch.max(outputs, 1)\n",
    "        all_preds.extend(preds.cpu().numpy())\n",
    "        all_true.extend(y_batch.cpu().numpy())\n",
    "\n",
    "# 혼동 행렬 계산\n",
    "cm = confusion_matrix(all_true, all_preds)\n",
    "\n",
    "# 평가 지표 출력\n",
    "print(\"F1 Score (weighted):\", f1_score(all_true, all_preds, average='weighted'))\n",
    "print(\"Accuracy:\", accuracy_score(all_true, all_preds))\n",
    "print(\"Classification Report:\")\n",
    "print(classification_report(all_true, all_preds, target_names=LABELS))\n",
    "\n",
    "# 혼동 행렬 시각화\n",
    "plt.figure(figsize=(8, 6))\n",
    "sns.heatmap(cm, cmap=\"YlGnBu\", xticklabels=LABELS, yticklabels=LABELS, annot=True, fmt='d')\n",
    "plt.xlabel(\"Predicted\")\n",
    "plt.ylabel(\"True\")\n",
    "plt.title(\"Confusion Matrix\")\n",
    "plt.show()"
   ]
  }
 ],
 "metadata": {
  "kernelspec": {
   "display_name": "Python 3 (ipykernel)",
   "language": "python",
   "name": "python3"
  },
  "language_info": {
   "codemirror_mode": {
    "name": "ipython",
    "version": 3
   },
   "file_extension": ".py",
   "mimetype": "text/x-python",
   "name": "python",
   "nbconvert_exporter": "python",
   "pygments_lexer": "ipython3",
   "version": "3.9.21"
  }
 },
 "nbformat": 4,
 "nbformat_minor": 5
}
